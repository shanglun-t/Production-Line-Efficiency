{
 "cells": [
  {
   "cell_type": "markdown",
   "metadata": {},
   "source": [
    "## Production Line Efficiency"
   ]
  },
  {
   "cell_type": "markdown",
   "metadata": {},
   "source": [
    "Dataset comprises 4209 records over 377 features of the products and corresponding assembly time of each, the object is to find the relationship between different combination of features and corresponding assembly time "
   ]
  },
  {
   "cell_type": "markdown",
   "metadata": {},
   "source": [
    "Roadmap: \n",
    "    1. Feature Analysis\n",
    "    2. Dimentionality reduction\n",
    "    3. Filtering outliers\n",
    "    4. Train-test split\n",
    "    5. Modeling: Random Forest Regressor, \n",
    "                 Gredien Boosting Regressor, \n",
    "                 AdaBoost Regressor,\n",
    "                 Bagging Regressor\n",
    "       Compare performance between models\n"
   ]
  },
  {
   "cell_type": "code",
   "execution_count": 100,
   "metadata": {},
   "outputs": [],
   "source": [
    "import pandas as pd\n",
    "import numpy as np \n",
    "\n",
    "from sklearn import preprocessing"
   ]
  },
  {
   "cell_type": "code",
   "execution_count": 101,
   "metadata": {},
   "outputs": [],
   "source": [
    "train_set = pd.read_csv('train.csv')\n",
    "test_set = pd.read_csv('test.csv')"
   ]
  },
  {
   "cell_type": "markdown",
   "metadata": {},
   "source": [
    "### An overview of training data"
   ]
  },
  {
   "cell_type": "code",
   "execution_count": 102,
   "metadata": {
    "scrolled": false
   },
   "outputs": [
    {
     "data": {
      "text/html": [
       "<div>\n",
       "<style scoped>\n",
       "    .dataframe tbody tr th:only-of-type {\n",
       "        vertical-align: middle;\n",
       "    }\n",
       "\n",
       "    .dataframe tbody tr th {\n",
       "        vertical-align: top;\n",
       "    }\n",
       "\n",
       "    .dataframe thead th {\n",
       "        text-align: right;\n",
       "    }\n",
       "</style>\n",
       "<table border=\"1\" class=\"dataframe\">\n",
       "  <thead>\n",
       "    <tr style=\"text-align: right;\">\n",
       "      <th></th>\n",
       "      <th>ID</th>\n",
       "      <th>y</th>\n",
       "      <th>X0</th>\n",
       "      <th>X1</th>\n",
       "      <th>X2</th>\n",
       "      <th>X3</th>\n",
       "      <th>X4</th>\n",
       "      <th>X5</th>\n",
       "      <th>X6</th>\n",
       "      <th>X8</th>\n",
       "      <th>X10</th>\n",
       "      <th>X11</th>\n",
       "      <th>X12</th>\n",
       "      <th>X13</th>\n",
       "      <th>X14</th>\n",
       "      <th>X15</th>\n",
       "    </tr>\n",
       "  </thead>\n",
       "  <tbody>\n",
       "    <tr>\n",
       "      <th>0</th>\n",
       "      <td>0</td>\n",
       "      <td>130.81</td>\n",
       "      <td>k</td>\n",
       "      <td>v</td>\n",
       "      <td>at</td>\n",
       "      <td>a</td>\n",
       "      <td>d</td>\n",
       "      <td>u</td>\n",
       "      <td>j</td>\n",
       "      <td>o</td>\n",
       "      <td>0</td>\n",
       "      <td>0</td>\n",
       "      <td>0</td>\n",
       "      <td>1</td>\n",
       "      <td>0</td>\n",
       "      <td>0</td>\n",
       "    </tr>\n",
       "    <tr>\n",
       "      <th>1</th>\n",
       "      <td>6</td>\n",
       "      <td>88.53</td>\n",
       "      <td>k</td>\n",
       "      <td>t</td>\n",
       "      <td>av</td>\n",
       "      <td>e</td>\n",
       "      <td>d</td>\n",
       "      <td>y</td>\n",
       "      <td>l</td>\n",
       "      <td>o</td>\n",
       "      <td>0</td>\n",
       "      <td>0</td>\n",
       "      <td>0</td>\n",
       "      <td>0</td>\n",
       "      <td>0</td>\n",
       "      <td>0</td>\n",
       "    </tr>\n",
       "    <tr>\n",
       "      <th>2</th>\n",
       "      <td>7</td>\n",
       "      <td>76.26</td>\n",
       "      <td>az</td>\n",
       "      <td>w</td>\n",
       "      <td>n</td>\n",
       "      <td>c</td>\n",
       "      <td>d</td>\n",
       "      <td>x</td>\n",
       "      <td>j</td>\n",
       "      <td>x</td>\n",
       "      <td>0</td>\n",
       "      <td>0</td>\n",
       "      <td>0</td>\n",
       "      <td>0</td>\n",
       "      <td>0</td>\n",
       "      <td>0</td>\n",
       "    </tr>\n",
       "    <tr>\n",
       "      <th>3</th>\n",
       "      <td>9</td>\n",
       "      <td>80.62</td>\n",
       "      <td>az</td>\n",
       "      <td>t</td>\n",
       "      <td>n</td>\n",
       "      <td>f</td>\n",
       "      <td>d</td>\n",
       "      <td>x</td>\n",
       "      <td>l</td>\n",
       "      <td>e</td>\n",
       "      <td>0</td>\n",
       "      <td>0</td>\n",
       "      <td>0</td>\n",
       "      <td>0</td>\n",
       "      <td>0</td>\n",
       "      <td>0</td>\n",
       "    </tr>\n",
       "    <tr>\n",
       "      <th>4</th>\n",
       "      <td>13</td>\n",
       "      <td>78.02</td>\n",
       "      <td>az</td>\n",
       "      <td>v</td>\n",
       "      <td>n</td>\n",
       "      <td>f</td>\n",
       "      <td>d</td>\n",
       "      <td>h</td>\n",
       "      <td>d</td>\n",
       "      <td>n</td>\n",
       "      <td>0</td>\n",
       "      <td>0</td>\n",
       "      <td>0</td>\n",
       "      <td>0</td>\n",
       "      <td>0</td>\n",
       "      <td>0</td>\n",
       "    </tr>\n",
       "    <tr>\n",
       "      <th>5</th>\n",
       "      <td>18</td>\n",
       "      <td>92.93</td>\n",
       "      <td>t</td>\n",
       "      <td>b</td>\n",
       "      <td>e</td>\n",
       "      <td>c</td>\n",
       "      <td>d</td>\n",
       "      <td>g</td>\n",
       "      <td>h</td>\n",
       "      <td>s</td>\n",
       "      <td>0</td>\n",
       "      <td>0</td>\n",
       "      <td>0</td>\n",
       "      <td>0</td>\n",
       "      <td>1</td>\n",
       "      <td>0</td>\n",
       "    </tr>\n",
       "  </tbody>\n",
       "</table>\n",
       "</div>"
      ],
      "text/plain": [
       "   ID       y  X0 X1  X2 X3 X4 X5 X6 X8  X10  X11  X12  X13  X14  X15\n",
       "0   0  130.81   k  v  at  a  d  u  j  o    0    0    0    1    0    0\n",
       "1   6   88.53   k  t  av  e  d  y  l  o    0    0    0    0    0    0\n",
       "2   7   76.26  az  w   n  c  d  x  j  x    0    0    0    0    0    0\n",
       "3   9   80.62  az  t   n  f  d  x  l  e    0    0    0    0    0    0\n",
       "4  13   78.02  az  v   n  f  d  h  d  n    0    0    0    0    0    0\n",
       "5  18   92.93   t  b   e  c  d  g  h  s    0    0    0    0    1    0"
      ]
     },
     "execution_count": 102,
     "metadata": {},
     "output_type": "execute_result"
    }
   ],
   "source": [
    "train_set.iloc[:6, :16]"
   ]
  },
  {
   "cell_type": "code",
   "execution_count": 103,
   "metadata": {},
   "outputs": [
    {
     "data": {
      "text/plain": [
       "(4209, 378)"
      ]
     },
     "execution_count": 103,
     "metadata": {},
     "output_type": "execute_result"
    }
   ],
   "source": [
    "train_set.shape"
   ]
  },
  {
   "cell_type": "code",
   "execution_count": 81,
   "metadata": {},
   "outputs": [
    {
     "data": {
      "text/html": [
       "<div>\n",
       "<style scoped>\n",
       "    .dataframe tbody tr th:only-of-type {\n",
       "        vertical-align: middle;\n",
       "    }\n",
       "\n",
       "    .dataframe tbody tr th {\n",
       "        vertical-align: top;\n",
       "    }\n",
       "\n",
       "    .dataframe thead th {\n",
       "        text-align: right;\n",
       "    }\n",
       "</style>\n",
       "<table border=\"1\" class=\"dataframe\">\n",
       "  <thead>\n",
       "    <tr style=\"text-align: right;\">\n",
       "      <th></th>\n",
       "      <th>ID</th>\n",
       "      <th>X0</th>\n",
       "      <th>X1</th>\n",
       "      <th>X2</th>\n",
       "      <th>X3</th>\n",
       "      <th>X4</th>\n",
       "      <th>X5</th>\n",
       "      <th>X6</th>\n",
       "      <th>X8</th>\n",
       "      <th>X10</th>\n",
       "      <th>X11</th>\n",
       "      <th>X12</th>\n",
       "      <th>X13</th>\n",
       "      <th>X14</th>\n",
       "      <th>X15</th>\n",
       "      <th>X16</th>\n",
       "    </tr>\n",
       "  </thead>\n",
       "  <tbody>\n",
       "    <tr>\n",
       "      <th>0</th>\n",
       "      <td>1</td>\n",
       "      <td>az</td>\n",
       "      <td>v</td>\n",
       "      <td>n</td>\n",
       "      <td>f</td>\n",
       "      <td>d</td>\n",
       "      <td>t</td>\n",
       "      <td>a</td>\n",
       "      <td>w</td>\n",
       "      <td>0</td>\n",
       "      <td>0</td>\n",
       "      <td>0</td>\n",
       "      <td>0</td>\n",
       "      <td>0</td>\n",
       "      <td>0</td>\n",
       "      <td>0</td>\n",
       "    </tr>\n",
       "    <tr>\n",
       "      <th>1</th>\n",
       "      <td>2</td>\n",
       "      <td>t</td>\n",
       "      <td>b</td>\n",
       "      <td>ai</td>\n",
       "      <td>a</td>\n",
       "      <td>d</td>\n",
       "      <td>b</td>\n",
       "      <td>g</td>\n",
       "      <td>y</td>\n",
       "      <td>0</td>\n",
       "      <td>0</td>\n",
       "      <td>0</td>\n",
       "      <td>0</td>\n",
       "      <td>0</td>\n",
       "      <td>0</td>\n",
       "      <td>0</td>\n",
       "    </tr>\n",
       "    <tr>\n",
       "      <th>2</th>\n",
       "      <td>3</td>\n",
       "      <td>az</td>\n",
       "      <td>v</td>\n",
       "      <td>as</td>\n",
       "      <td>f</td>\n",
       "      <td>d</td>\n",
       "      <td>a</td>\n",
       "      <td>j</td>\n",
       "      <td>j</td>\n",
       "      <td>0</td>\n",
       "      <td>0</td>\n",
       "      <td>0</td>\n",
       "      <td>0</td>\n",
       "      <td>1</td>\n",
       "      <td>0</td>\n",
       "      <td>0</td>\n",
       "    </tr>\n",
       "    <tr>\n",
       "      <th>3</th>\n",
       "      <td>4</td>\n",
       "      <td>az</td>\n",
       "      <td>l</td>\n",
       "      <td>n</td>\n",
       "      <td>f</td>\n",
       "      <td>d</td>\n",
       "      <td>z</td>\n",
       "      <td>l</td>\n",
       "      <td>n</td>\n",
       "      <td>0</td>\n",
       "      <td>0</td>\n",
       "      <td>0</td>\n",
       "      <td>0</td>\n",
       "      <td>0</td>\n",
       "      <td>0</td>\n",
       "      <td>0</td>\n",
       "    </tr>\n",
       "    <tr>\n",
       "      <th>4</th>\n",
       "      <td>5</td>\n",
       "      <td>w</td>\n",
       "      <td>s</td>\n",
       "      <td>as</td>\n",
       "      <td>c</td>\n",
       "      <td>d</td>\n",
       "      <td>y</td>\n",
       "      <td>i</td>\n",
       "      <td>m</td>\n",
       "      <td>0</td>\n",
       "      <td>0</td>\n",
       "      <td>0</td>\n",
       "      <td>0</td>\n",
       "      <td>1</td>\n",
       "      <td>0</td>\n",
       "      <td>0</td>\n",
       "    </tr>\n",
       "    <tr>\n",
       "      <th>5</th>\n",
       "      <td>8</td>\n",
       "      <td>y</td>\n",
       "      <td>aa</td>\n",
       "      <td>ai</td>\n",
       "      <td>e</td>\n",
       "      <td>d</td>\n",
       "      <td>x</td>\n",
       "      <td>g</td>\n",
       "      <td>s</td>\n",
       "      <td>0</td>\n",
       "      <td>0</td>\n",
       "      <td>0</td>\n",
       "      <td>0</td>\n",
       "      <td>0</td>\n",
       "      <td>0</td>\n",
       "      <td>0</td>\n",
       "    </tr>\n",
       "  </tbody>\n",
       "</table>\n",
       "</div>"
      ],
      "text/plain": [
       "   ID  X0  X1  X2 X3 X4 X5 X6 X8  X10  X11  X12  X13  X14  X15  X16\n",
       "0   1  az   v   n  f  d  t  a  w    0    0    0    0    0    0    0\n",
       "1   2   t   b  ai  a  d  b  g  y    0    0    0    0    0    0    0\n",
       "2   3  az   v  as  f  d  a  j  j    0    0    0    0    1    0    0\n",
       "3   4  az   l   n  f  d  z  l  n    0    0    0    0    0    0    0\n",
       "4   5   w   s  as  c  d  y  i  m    0    0    0    0    1    0    0\n",
       "5   8   y  aa  ai  e  d  x  g  s    0    0    0    0    0    0    0"
      ]
     },
     "execution_count": 81,
     "metadata": {},
     "output_type": "execute_result"
    }
   ],
   "source": [
    "test_set.iloc[:6, :16]"
   ]
  },
  {
   "cell_type": "code",
   "execution_count": 104,
   "metadata": {},
   "outputs": [
    {
     "data": {
      "text/plain": [
       "(4209, 377)"
      ]
     },
     "execution_count": 104,
     "metadata": {},
     "output_type": "execute_result"
    }
   ],
   "source": [
    "test_set.shape"
   ]
  },
  {
   "cell_type": "code",
   "execution_count": 105,
   "metadata": {
    "scrolled": true
   },
   "outputs": [
    {
     "data": {
      "text/plain": [
       "Index(['y'], dtype='object')"
      ]
     },
     "execution_count": 105,
     "metadata": {},
     "output_type": "execute_result"
    }
   ],
   "source": [
    "train_set.columns.difference(test_set.columns)"
   ]
  },
  {
   "cell_type": "markdown",
   "metadata": {},
   "source": [
    "### Confirmation to data types in training data"
   ]
  },
  {
   "cell_type": "code",
   "execution_count": 106,
   "metadata": {
    "scrolled": true
   },
   "outputs": [
    {
     "data": {
      "text/html": [
       "<div>\n",
       "<style scoped>\n",
       "    .dataframe tbody tr th:only-of-type {\n",
       "        vertical-align: middle;\n",
       "    }\n",
       "\n",
       "    .dataframe tbody tr th {\n",
       "        vertical-align: top;\n",
       "    }\n",
       "\n",
       "    .dataframe thead th {\n",
       "        text-align: right;\n",
       "    }\n",
       "</style>\n",
       "<table border=\"1\" class=\"dataframe\">\n",
       "  <thead>\n",
       "    <tr style=\"text-align: right;\">\n",
       "      <th></th>\n",
       "      <th>Column Type</th>\n",
       "      <th>Count</th>\n",
       "    </tr>\n",
       "  </thead>\n",
       "  <tbody>\n",
       "    <tr>\n",
       "      <th>0</th>\n",
       "      <td>int64</td>\n",
       "      <td>369</td>\n",
       "    </tr>\n",
       "    <tr>\n",
       "      <th>1</th>\n",
       "      <td>float64</td>\n",
       "      <td>1</td>\n",
       "    </tr>\n",
       "    <tr>\n",
       "      <th>2</th>\n",
       "      <td>object</td>\n",
       "      <td>8</td>\n",
       "    </tr>\n",
       "  </tbody>\n",
       "</table>\n",
       "</div>"
      ],
      "text/plain": [
       "  Column Type  Count\n",
       "0       int64    369\n",
       "1     float64      1\n",
       "2      object      8"
      ]
     },
     "execution_count": 106,
     "metadata": {},
     "output_type": "execute_result"
    }
   ],
   "source": [
    "type_df = train_set.dtypes.reset_index()\n",
    "type_df.columns = [\"Count\", \"Column Type\"]\n",
    "type_df.groupby(\"Column Type\").aggregate('count').reset_index()"
   ]
  },
  {
   "cell_type": "markdown",
   "metadata": {},
   "source": [
    "### Distribution of values in integer columns "
   ]
  },
  {
   "cell_type": "code",
   "execution_count": 107,
   "metadata": {},
   "outputs": [],
   "source": [
    "from matplotlib import pyplot as plt\n",
    "import seaborn as sns "
   ]
  },
  {
   "cell_type": "code",
   "execution_count": 108,
   "metadata": {
    "scrolled": false
   },
   "outputs": [
    {
     "data": {
      "image/png": "[encoded data removed]",
      "text/plain": [
       "<matplotlib.figure.Figure at 0x1a0e85e400>"
      ]
     },
     "metadata": {},
     "output_type": "display_data"
    }
   ],
   "source": [
    "var_name = \"ID\"\n",
    "plt.figure(figsize=(10,10))\n",
    "sns.regplot(x=var_name, y='y', data=train_set, scatter_kws={'alpha':0.5, 's':30})\n",
    "plt.xlabel(var_name, fontsize=12)\n",
    "plt.ylabel('y', fontsize=12)\n",
    "plt.title(\"Distribution of y variable with \"+ var_name, fontsize=15)\n",
    "plt.show()\n",
    "\n",
    "#plt.clf()"
   ]
  },
  {
   "cell_type": "markdown",
   "metadata": {},
   "source": [
    "### Detecting and filtering outliers in training data"
   ]
  },
  {
   "cell_type": "code",
   "execution_count": 109,
   "metadata": {
    "scrolled": true
   },
   "outputs": [
    {
     "data": {
      "image/png": "[encoded data removed]",
      "text/plain": [
       "<matplotlib.figure.Figure at 0x1a0e877208>"
      ]
     },
     "metadata": {},
     "output_type": "display_data"
    }
   ],
   "source": [
    "from matplotlib import pyplot as plt\n",
    "\n",
    "# Plotting y distribution over rows\n",
    "plt.figure(figsize=(8,6))\n",
    "plt.scatter(range(train_set.shape[0]), np.sort(train_set.y.values), marker = '.', c = 'g')\n",
    "plt.xlabel('rows', fontsize=12)\n",
    "plt.ylabel('y-value', fontsize=12)\n",
    "plt.xticks(np.arange(0, int(train_set.shape[0]), step=500.0))\n",
    "plt.grid()\n",
    "plt.show()\n"
   ]
  },
  {
   "cell_type": "code",
   "execution_count": 110,
   "metadata": {
    "scrolled": false
   },
   "outputs": [
    {
     "data": {
      "text/plain": [
       "count    4209.000000\n",
       "mean      100.669318\n",
       "std        12.679381\n",
       "min        72.110000\n",
       "25%        90.820000\n",
       "50%        99.150000\n",
       "75%       109.010000\n",
       "max       265.320000\n",
       "Name: y, dtype: float64"
      ]
     },
     "execution_count": 110,
     "metadata": {},
     "output_type": "execute_result"
    }
   ],
   "source": [
    "train_set['y'].describe()"
   ]
  },
  {
   "cell_type": "code",
   "execution_count": 111,
   "metadata": {},
   "outputs": [],
   "source": [
    "# Replace outlier(s) with median \n",
    "\n",
    "median = train_set.loc[train_set['y'] < 175, 'y'].median()\n",
    "train_set.loc[train_set.y > 175, 'y'] = np.nan\n",
    "train_set.fillna(median, inplace=True)\n"
   ]
  },
  {
   "cell_type": "markdown",
   "metadata": {},
   "source": [
    "### Find duplicate and constant features"
   ]
  },
  {
   "cell_type": "code",
   "execution_count": 112,
   "metadata": {},
   "outputs": [
    {
     "name": "stdout",
     "output_type": "stream",
     "text": [
      "Categorical columns: ['X0', 'X1', 'X2', 'X3', 'X4', 'X5', 'X6', 'X8']\n",
      "Dublicates columns: ['X93', 'X107', 'X233', 'X235', 'X268', 'X289', 'X290', 'X293', 'X297', 'X330', 'X347', 'X382', 'X232', 'X279', 'X35', 'X37', 'X39', 'X302', 'X113', 'X134', 'X147', 'X222', 'X102', 'X214', 'X239', 'X76', 'X324', 'X248', 'X253', 'X385', 'X172', 'X216', 'X213', 'X84', 'X244', 'X122', 'X243', 'X320', 'X245', 'X94', 'X242', 'X199', 'X119', 'X227', 'X146', 'X226', 'X326', 'X360', 'X262', 'X266', 'X247', 'X254', 'X364', 'X365', 'X296', 'X299']\n",
      "Constant cols: ['X11', 'X93', 'X107', 'X233', 'X235', 'X268', 'X289', 'X290', 'X293', 'X297', 'X330', 'X347']\n"
     ]
    }
   ],
   "source": [
    "# Categorical Columns\n",
    "cat_cols = []\n",
    "for c in train_set.columns:\n",
    "    if train_set[c].dtype == 'object':\n",
    "        cat_cols.append(c)\n",
    "print('Categorical columns:', cat_cols)\n",
    "\n",
    "\n",
    "# Dublicate Columns\n",
    "d = {}; done = []\n",
    "cols = train_set.columns.values\n",
    "for c in cols: d[c]=[]\n",
    "for i in range(len(cols)):\n",
    "    if i not in done:\n",
    "        for j in range(i+1, len(cols)):\n",
    "            if all(train_set[cols[i]] == train_set[cols[j]]):\n",
    "                done.append(j)\n",
    "                d[cols[i]].append(cols[j])\n",
    "dub_cols = []\n",
    "for k in d.keys():\n",
    "    if len(d[k]) > 0: \n",
    "        # print k, d[k]\n",
    "        dub_cols += d[k]        \n",
    "print('Dublicates columns:', dub_cols)\n",
    "\n",
    "# Constant columns\n",
    "const_cols = []\n",
    "for c in cols:\n",
    "    if len(train_set[c].unique()) == 1:\n",
    "        const_cols.append(c)\n",
    "print('Constant cols:', const_cols)"
   ]
  },
  {
   "cell_type": "code",
   "execution_count": 91,
   "metadata": {
    "scrolled": true
   },
   "outputs": [
    {
     "data": {
      "image/png": "[encoded data removed]",
      "text/plain": [
       "<matplotlib.figure.Figure at 0x1a14bb3208>"
      ]
     },
     "metadata": {},
     "output_type": "display_data"
    }
   ],
   "source": [
    "pal = sns.color_palette()\n",
    "cat_col = list(train_set.columns[10:378])\n",
    "\n",
    "binary_means = [np.mean(train_set[c]) for c in cat_col]\n",
    "binary_names = np.array(cat_col)[np.argsort(binary_means)]\n",
    "binary_means = np.sort(binary_means)\n",
    "\n",
    "fig, ax = plt.subplots(1, 3, figsize=(12,30))\n",
    "ax[0].set_ylabel('Feature name')\n",
    "ax[1].set_title('Mean values of binary variables')\n",
    "for i in range(3):\n",
    "    names, means = binary_names[i*119:(i+1)*119], binary_means[i*119:(i+1)*119]\n",
    "    ax[i].barh(range(len(means)), means, color=pal[2])\n",
    "    ax[i].set_xlabel('Mean value')\n",
    "    ax[i].set_yticks(range(len(means)))\n",
    "    ax[i].set_yticklabels(names, rotation='horizontal')\n",
    "plt.show()"
   ]
  },
  {
   "cell_type": "code",
   "execution_count": 113,
   "metadata": {
    "scrolled": true
   },
   "outputs": [],
   "source": [
    "# Encoding categorical columus\n",
    "\n",
    "for col in cat_cols:\n",
    "        le = preprocessing.LabelEncoder()\n",
    "        le.fit(list(train_set[col].values) + list(test_set[col].values))\n",
    "        train_set[col] = le.transform(list(train_set[col].values)).copy()\n",
    "        test_set[col] = le.transform(list(test_set[col].values)).copy()\n"
   ]
  },
  {
   "cell_type": "code",
   "execution_count": 114,
   "metadata": {},
   "outputs": [
    {
     "data": {
      "text/plain": [
       "(4209, 378)"
      ]
     },
     "execution_count": 114,
     "metadata": {},
     "output_type": "execute_result"
    }
   ],
   "source": [
    "train_set.shape"
   ]
  },
  {
   "cell_type": "code",
   "execution_count": 115,
   "metadata": {},
   "outputs": [
    {
     "data": {
      "text/plain": [
       "(4209, 377)"
      ]
     },
     "execution_count": 115,
     "metadata": {},
     "output_type": "execute_result"
    }
   ],
   "source": [
    "test_set.shape"
   ]
  },
  {
   "cell_type": "markdown",
   "metadata": {},
   "source": [
    "### Dimensionality reduction"
   ]
  },
  {
   "cell_type": "code",
   "execution_count": 116,
   "metadata": {},
   "outputs": [],
   "source": [
    "from sklearn.decomposition import TruncatedSVD, FastICA, PCA  \n",
    "from sklearn.random_projection import GaussianRandomProjection, SparseRandomProjection\n",
    "\n",
    "n_comp = 20\n",
    "\n",
    "# Truncated SVD\n",
    "tsvd = TruncatedSVD(n_components=n_comp, random_state=20)\n",
    "tsvd_train = tsvd.fit_transform(train_set.drop([\"y\"], axis=1))\n",
    "tsvd_test = tsvd.transform(test_set)\n",
    "\n",
    "# PCA\n",
    "pca = PCA(n_components=n_comp, random_state=20)\n",
    "pca_train = pca.fit_transform(train_set.drop([\"y\"], axis=1))\n",
    "pca_test = pca.transform(test_set)\n",
    "\n",
    "# Fast ICA - inceased tol to 0.05 to avoid warning of not-converge\n",
    "ica = FastICA(n_components=n_comp, random_state=20, tol=0.05)   \n",
    "ica_train = ica.fit_transform(train_set.drop([\"y\"], axis=1))\n",
    "ica_test = ica.transform(test_set)\n",
    "\n",
    "# GRP\n",
    "grp = GaussianRandomProjection(n_components=n_comp, eps=0.1, random_state=20)\n",
    "grp_train = grp.fit_transform(train_set.drop([\"y\"], axis=1))\n",
    "grp_test = grp.transform(test_set)\n",
    "\n",
    "# SRP\n",
    "srp = SparseRandomProjection(n_components=n_comp, dense_output=True, random_state=20)\n",
    "srp_train = srp.fit_transform(train_set.drop([\"y\"], axis=1))\n",
    "srp_test = srp.transform(test_set)"
   ]
  },
  {
   "cell_type": "code",
   "execution_count": 117,
   "metadata": {
    "scrolled": true
   },
   "outputs": [],
   "source": [
    "work_columns = list(set(train_set.columns) - set(['y']))\n",
    "\n",
    "for i in range(1, n_comp + 1):\n",
    "    train_set['pca_' + str(i)] = pca_train[:, i - 1].copy()\n",
    "    test_set['pca_' + str(i)] = pca_test[:, i - 1].copy()\n",
    "\n",
    "    train_set['ica_' + str(i)] = ica_train[:, i - 1].copy()\n",
    "    test_set['ica_' + str(i)] = ica_test[:, i - 1].copy()\n",
    "\n",
    "    train_set['tsvd_' + str(i)] = tsvd_train[:, i - 1].copy()\n",
    "    test_set['tsvd_' + str(i)] = tsvd_test[:, i - 1].copy()\n",
    "\n",
    "    train_set['grp_' + str(i)] = grp_train[:, i - 1].copy()\n",
    "    test_set['grp_' + str(i)] = grp_test[:, i - 1].copy()\n",
    "\n",
    "    train_set['srp_' + str(i)] = srp_train[:, i - 1].copy()\n",
    "    test_set['srp_' + str(i)] = srp_test[:, i - 1].copy()"
   ]
  },
  {
   "cell_type": "markdown",
   "metadata": {},
   "source": [
    "### Train-test split"
   ]
  },
  {
   "cell_type": "code",
   "execution_count": 118,
   "metadata": {},
   "outputs": [],
   "source": [
    "from sklearn.model_selection import train_test_split\n",
    "\n",
    "y_train_val = train_set['y'].values\n",
    "X_train, X_test, y_train, y_test = train_test_split(train_set, y_train_val, train_size=0.8, test_size=0.2)\n",
    "\n"
   ]
  },
  {
   "cell_type": "code",
   "execution_count": 120,
   "metadata": {
    "scrolled": true
   },
   "outputs": [
    {
     "data": {
      "text/html": [
       "<div>\n",
       "<style scoped>\n",
       "    .dataframe tbody tr th:only-of-type {\n",
       "        vertical-align: middle;\n",
       "    }\n",
       "\n",
       "    .dataframe tbody tr th {\n",
       "        vertical-align: top;\n",
       "    }\n",
       "\n",
       "    .dataframe thead th {\n",
       "        text-align: right;\n",
       "    }\n",
       "</style>\n",
       "<table border=\"1\" class=\"dataframe\">\n",
       "  <thead>\n",
       "    <tr style=\"text-align: right;\">\n",
       "      <th></th>\n",
       "      <th>ID</th>\n",
       "      <th>y</th>\n",
       "      <th>X0</th>\n",
       "      <th>X1</th>\n",
       "      <th>X2</th>\n",
       "      <th>X3</th>\n",
       "      <th>X4</th>\n",
       "      <th>X5</th>\n",
       "      <th>X6</th>\n",
       "      <th>X8</th>\n",
       "      <th>...</th>\n",
       "      <th>pca_19</th>\n",
       "      <th>ica_19</th>\n",
       "      <th>tsvd_19</th>\n",
       "      <th>grp_19</th>\n",
       "      <th>srp_19</th>\n",
       "      <th>pca_20</th>\n",
       "      <th>ica_20</th>\n",
       "      <th>tsvd_20</th>\n",
       "      <th>grp_20</th>\n",
       "      <th>srp_20</th>\n",
       "    </tr>\n",
       "  </thead>\n",
       "  <tbody>\n",
       "    <tr>\n",
       "      <th>0</th>\n",
       "      <td>0</td>\n",
       "      <td>130.81</td>\n",
       "      <td>37</td>\n",
       "      <td>23</td>\n",
       "      <td>20</td>\n",
       "      <td>0</td>\n",
       "      <td>3</td>\n",
       "      <td>27</td>\n",
       "      <td>9</td>\n",
       "      <td>14</td>\n",
       "      <td>...</td>\n",
       "      <td>0.763655</td>\n",
       "      <td>0.014391</td>\n",
       "      <td>0.415046</td>\n",
       "      <td>5.262936</td>\n",
       "      <td>0.000000</td>\n",
       "      <td>-0.831457</td>\n",
       "      <td>0.004468</td>\n",
       "      <td>-0.246498</td>\n",
       "      <td>8.187317</td>\n",
       "      <td>1.970608</td>\n",
       "    </tr>\n",
       "    <tr>\n",
       "      <th>1</th>\n",
       "      <td>6</td>\n",
       "      <td>88.53</td>\n",
       "      <td>37</td>\n",
       "      <td>21</td>\n",
       "      <td>22</td>\n",
       "      <td>4</td>\n",
       "      <td>3</td>\n",
       "      <td>31</td>\n",
       "      <td>11</td>\n",
       "      <td>14</td>\n",
       "      <td>...</td>\n",
       "      <td>0.100401</td>\n",
       "      <td>-0.004319</td>\n",
       "      <td>0.112566</td>\n",
       "      <td>3.245488</td>\n",
       "      <td>0.985304</td>\n",
       "      <td>1.219859</td>\n",
       "      <td>0.007554</td>\n",
       "      <td>-0.484294</td>\n",
       "      <td>10.670732</td>\n",
       "      <td>0.985304</td>\n",
       "    </tr>\n",
       "    <tr>\n",
       "      <th>2</th>\n",
       "      <td>7</td>\n",
       "      <td>76.26</td>\n",
       "      <td>24</td>\n",
       "      <td>24</td>\n",
       "      <td>38</td>\n",
       "      <td>2</td>\n",
       "      <td>3</td>\n",
       "      <td>30</td>\n",
       "      <td>9</td>\n",
       "      <td>23</td>\n",
       "      <td>...</td>\n",
       "      <td>-1.257607</td>\n",
       "      <td>0.003388</td>\n",
       "      <td>-1.199236</td>\n",
       "      <td>3.374388</td>\n",
       "      <td>2.955913</td>\n",
       "      <td>-0.589357</td>\n",
       "      <td>0.008956</td>\n",
       "      <td>0.644716</td>\n",
       "      <td>5.907065</td>\n",
       "      <td>0.985304</td>\n",
       "    </tr>\n",
       "    <tr>\n",
       "      <th>3</th>\n",
       "      <td>9</td>\n",
       "      <td>80.62</td>\n",
       "      <td>24</td>\n",
       "      <td>21</td>\n",
       "      <td>38</td>\n",
       "      <td>5</td>\n",
       "      <td>3</td>\n",
       "      <td>30</td>\n",
       "      <td>11</td>\n",
       "      <td>4</td>\n",
       "      <td>...</td>\n",
       "      <td>-0.473153</td>\n",
       "      <td>-0.006944</td>\n",
       "      <td>-0.549774</td>\n",
       "      <td>-5.617152</td>\n",
       "      <td>4.926521</td>\n",
       "      <td>0.172082</td>\n",
       "      <td>0.007342</td>\n",
       "      <td>-0.146137</td>\n",
       "      <td>11.777684</td>\n",
       "      <td>0.985304</td>\n",
       "    </tr>\n",
       "    <tr>\n",
       "      <th>4</th>\n",
       "      <td>13</td>\n",
       "      <td>78.02</td>\n",
       "      <td>24</td>\n",
       "      <td>23</td>\n",
       "      <td>38</td>\n",
       "      <td>5</td>\n",
       "      <td>3</td>\n",
       "      <td>14</td>\n",
       "      <td>3</td>\n",
       "      <td>13</td>\n",
       "      <td>...</td>\n",
       "      <td>-0.438686</td>\n",
       "      <td>0.017242</td>\n",
       "      <td>-0.811610</td>\n",
       "      <td>-5.288744</td>\n",
       "      <td>2.955913</td>\n",
       "      <td>0.387306</td>\n",
       "      <td>-0.014186</td>\n",
       "      <td>-0.695457</td>\n",
       "      <td>10.404363</td>\n",
       "      <td>0.985304</td>\n",
       "    </tr>\n",
       "  </tbody>\n",
       "</table>\n",
       "<p>5 rows × 478 columns</p>\n",
       "</div>"
      ],
      "text/plain": [
       "   ID       y  X0  X1  X2  X3  X4  X5  X6  X8    ...       pca_19    ica_19  \\\n",
       "0   0  130.81  37  23  20   0   3  27   9  14    ...     0.763655  0.014391   \n",
       "1   6   88.53  37  21  22   4   3  31  11  14    ...     0.100401 -0.004319   \n",
       "2   7   76.26  24  24  38   2   3  30   9  23    ...    -1.257607  0.003388   \n",
       "3   9   80.62  24  21  38   5   3  30  11   4    ...    -0.473153 -0.006944   \n",
       "4  13   78.02  24  23  38   5   3  14   3  13    ...    -0.438686  0.017242   \n",
       "\n",
       "    tsvd_19    grp_19    srp_19    pca_20    ica_20   tsvd_20     grp_20  \\\n",
       "0  0.415046  5.262936  0.000000 -0.831457  0.004468 -0.246498   8.187317   \n",
       "1  0.112566  3.245488  0.985304  1.219859  0.007554 -0.484294  10.670732   \n",
       "2 -1.199236  3.374388  2.955913 -0.589357  0.008956  0.644716   5.907065   \n",
       "3 -0.549774 -5.617152  4.926521  0.172082  0.007342 -0.146137  11.777684   \n",
       "4 -0.811610 -5.288744  2.955913  0.387306 -0.014186 -0.695457  10.404363   \n",
       "\n",
       "     srp_20  \n",
       "0  1.970608  \n",
       "1  0.985304  \n",
       "2  0.985304  \n",
       "3  0.985304  \n",
       "4  0.985304  \n",
       "\n",
       "[5 rows x 478 columns]"
      ]
     },
     "execution_count": 120,
     "metadata": {},
     "output_type": "execute_result"
    }
   ],
   "source": [
    "train_set.head()"
   ]
  },
  {
   "cell_type": "code",
   "execution_count": 121,
   "metadata": {
    "scrolled": true
   },
   "outputs": [
    {
     "data": {
      "text/plain": [
       "(4209, 477)"
      ]
     },
     "execution_count": 121,
     "metadata": {},
     "output_type": "execute_result"
    }
   ],
   "source": [
    "test_set.shape"
   ]
  },
  {
   "cell_type": "markdown",
   "metadata": {},
   "source": [
    "### Modelling: Random Forest Regressor model"
   ]
  },
  {
   "cell_type": "code",
   "execution_count": 122,
   "metadata": {},
   "outputs": [
    {
     "data": {
      "text/plain": [
       "RandomForestRegressor(bootstrap=True, criterion='mse', max_depth=10,\n",
       "           max_features=0.2, max_leaf_nodes=60, min_impurity_decrease=0.0,\n",
       "           min_impurity_split=None, min_samples_leaf=4,\n",
       "           min_samples_split=2, min_weight_fraction_leaf=0.0,\n",
       "           n_estimators=200, n_jobs=-1, oob_score=True, random_state=50,\n",
       "           verbose=0, warm_start=False)"
      ]
     },
     "execution_count": 122,
     "metadata": {},
     "output_type": "execute_result"
    }
   ],
   "source": [
    "from sklearn.ensemble import RandomForestRegressor\n",
    "\n",
    "rfgr = RandomForestRegressor(n_estimators=200, \n",
    "                             max_depth=10,\n",
    "                             max_leaf_nodes=60,\n",
    "                             min_samples_leaf=4, \n",
    "                             max_features=0.2, \n",
    "                             n_jobs=-1, \n",
    "                             random_state=50,\n",
    "                             oob_score=True, \n",
    "                            )\n",
    "rfgr"
   ]
  },
  {
   "cell_type": "code",
   "execution_count": 123,
   "metadata": {
    "scrolled": true
   },
   "outputs": [
    {
     "data": {
      "text/plain": [
       "RandomForestRegressor(bootstrap=True, criterion='mse', max_depth=10,\n",
       "           max_features=0.2, max_leaf_nodes=60, min_impurity_decrease=0.0,\n",
       "           min_impurity_split=None, min_samples_leaf=4,\n",
       "           min_samples_split=2, min_weight_fraction_leaf=0.0,\n",
       "           n_estimators=200, n_jobs=-1, oob_score=True, random_state=50,\n",
       "           verbose=0, warm_start=False)"
      ]
     },
     "execution_count": 123,
     "metadata": {},
     "output_type": "execute_result"
    }
   ],
   "source": [
    "rfgr.fit(X_train, y_train)"
   ]
  },
  {
   "cell_type": "code",
   "execution_count": 125,
   "metadata": {
    "scrolled": true
   },
   "outputs": [
    {
     "data": {
      "text/plain": [
       "array([ 92.12965992, 111.64463647,  90.94595133, 118.1751591 ,\n",
       "        91.50876167,  90.80399903,  90.28522932, 112.27344015,\n",
       "       124.36913746, 109.08184894,  91.3171964 ,  90.7295584 ,\n",
       "        94.70435007, 104.97170924, 100.59690745, 111.90893623,\n",
       "        91.19653261,  93.46360592, 109.40132381, 128.36069688,\n",
       "       114.32216718, 109.48414866, 108.71042802, 114.18323451,\n",
       "       108.40008332, 111.33591593,  95.23417812,  94.45044098,\n",
       "        91.24513404, 111.87294369,  93.93054579, 113.97796362,\n",
       "        91.44074042, 109.69485089, 112.22375246,  91.53429847,\n",
       "        90.97648067,  90.09763648,  78.64222542,  91.29113378,\n",
       "        93.8835321 ,  90.56999701, 109.99130827,  91.37883245,\n",
       "       110.74761506,  93.11027235,  91.32847694,  90.83093612,\n",
       "        90.64597416, 105.44979035, 111.06302628,  91.08656273,\n",
       "        90.94417188,  96.7974073 , 110.19971747, 112.82943919,\n",
       "        92.70692386, 100.09722424,  92.78334839, 101.97362049,\n",
       "        99.45959703,  95.11813243,  91.47949224,  94.4960506 ,\n",
       "        90.78764854,  77.12728562, 100.27690099,  91.38253339,\n",
       "        90.46279448,  90.65558309, 111.04254533, 109.31151793,\n",
       "        93.74893436, 103.97510596,  94.99916256,  91.77415031,\n",
       "        91.95778704,  77.62346854, 101.10821258, 113.47647353,\n",
       "       111.61268082, 121.06717216, 125.70220806,  94.44854551,\n",
       "       108.99939407,  93.37078047, 109.11619904,  94.2069627 ,\n",
       "       128.87188371, 106.39476365, 101.11487875, 110.50587269,\n",
       "        91.6456599 ,  91.11644115, 109.19201038, 104.71597164,\n",
       "       100.77386725, 100.73974493, 109.76762517,  91.86489397,\n",
       "        94.05008621, 116.07210443,  90.05416199,  92.65521141,\n",
       "        91.11331464,  91.31371509,  95.17902635,  93.16446523,\n",
       "       107.8210582 , 110.27763665,  78.34193161,  91.92565842,\n",
       "       112.10578235,  93.17726401, 110.53855193, 124.91957844,\n",
       "        91.72705273, 118.48987747, 112.38746968, 127.73239494,\n",
       "        92.06333293,  91.16827572,  90.57664925, 117.49023395,\n",
       "        91.36220294,  94.59388673, 116.51603225,  91.98495063,\n",
       "        91.1890386 ,  93.27738492,  91.60342943, 110.06844091,\n",
       "        91.31040372, 109.34342558, 109.67950765, 100.70804913,\n",
       "        91.39905639, 126.90581727, 101.42067906, 115.18988385,\n",
       "       110.36016881, 110.44147185,  81.74081581,  90.97850438,\n",
       "       100.13570179, 101.78742234,  90.81146317, 100.74041843,\n",
       "        91.12438705,  90.43637522, 100.50374078,  90.8702107 ,\n",
       "       109.12211275,  91.48242822,  90.68177077,  91.69977738,\n",
       "        92.66555875,  92.2927979 ,  91.26662224,  91.50076525,\n",
       "        77.04420329, 113.50953835, 124.10764046,  92.04782221,\n",
       "       109.42249925, 111.92625711,  92.52613476,  91.57411236,\n",
       "        90.90187715,  91.26434915, 110.96875143,  92.45293785,\n",
       "        91.26745703, 108.89679382, 101.71709167,  91.83026982,\n",
       "       102.24878324, 107.73213098, 111.68608043, 111.22936496,\n",
       "       103.61198684,  94.29253792,  94.01999364, 100.86338972,\n",
       "       129.44873235,  93.37062508,  76.9022079 , 109.60810444,\n",
       "        91.01956391, 114.23719205,  94.7632105 ,  90.88654946,\n",
       "       112.47136699,  90.32760476, 111.56581443, 109.15188698,\n",
       "       100.37837971, 100.77125564, 104.24820406, 109.49514153,\n",
       "       108.10881813, 109.78974586, 100.57401765, 109.67696692,\n",
       "       119.22502504, 100.65171462,  91.59814651, 100.13678029,\n",
       "        93.56867523,  92.57121442, 110.76507107, 114.9264113 ,\n",
       "        91.15117146, 109.33326271, 100.3052703 , 109.92682255,\n",
       "       111.48117309,  90.36333084,  90.77829478, 109.02673206,\n",
       "        91.59481831,  91.18954211, 108.91214106, 120.7186253 ,\n",
       "       108.95270087,  90.89191077, 109.40735058, 110.12585691,\n",
       "        91.52098877, 120.34493537,  91.08204476, 113.5402941 ,\n",
       "       103.75606992,  91.61948768,  90.28334647,  77.45337915,\n",
       "        98.94171732, 100.68435426, 109.30701214, 110.48980824,\n",
       "        93.88374048,  89.71167902,  92.35538261,  94.22446291,\n",
       "        91.43414906,  93.267848  , 112.05086152,  95.46680097,\n",
       "       116.23727759, 107.46207288, 111.94222966, 117.69214545,\n",
       "        94.42891697,  95.746361  ,  93.53135065, 109.01734696,\n",
       "        91.51010523, 106.15245096,  92.83359335, 112.63198408,\n",
       "       109.32756676, 107.63405403,  92.08278551, 110.57515114,\n",
       "        96.07927225, 113.99769654,  93.55589345, 108.48991922,\n",
       "        93.73770008,  91.8483906 ,  91.7479748 , 101.62729809,\n",
       "       116.13085247,  91.44466784, 110.40356972, 108.30796261,\n",
       "        92.8891515 ,  91.57636895,  93.56366644,  90.36117203,\n",
       "        91.10075744,  91.26122574,  94.83593365, 101.12799391,\n",
       "       118.0738703 , 114.4858702 ,  93.71954396, 114.52373323,\n",
       "        94.55170334, 110.45205701,  91.73221919,  91.39280948,\n",
       "        76.69944508,  77.00267881, 118.33501247,  89.92778993,\n",
       "        90.75538108,  89.84329516,  94.06181798,  93.85665312,\n",
       "        90.94699274, 111.78583269, 112.27504948, 104.80861908,\n",
       "        91.88557021, 109.9142742 ,  77.39569986, 111.37229226,\n",
       "        96.17663499,  95.77856518, 112.08779092, 109.13009194,\n",
       "        91.19517934,  77.29188675, 111.30932217, 111.54051371,\n",
       "        91.38987203,  91.05335736, 114.93094912, 111.39396651,\n",
       "        77.05786295,  90.45186879, 100.06385854, 103.87030492,\n",
       "        91.17274159, 110.90988392,  91.34623839, 113.83455326,\n",
       "        90.6873517 , 123.94217367,  90.6580443 ,  92.42693402,\n",
       "        91.16786504, 115.44916167,  93.94952971,  93.90248092,\n",
       "        93.30572196,  94.03600061, 108.7480731 ,  94.16840894,\n",
       "        90.31407921, 112.72888914, 117.24803062, 114.53753004,\n",
       "       111.63132051, 111.21580007, 100.29526164, 108.92747883,\n",
       "       115.0851622 , 104.52052825, 114.22067964, 111.05183585,\n",
       "        97.34401511,  90.53749027, 125.27719621, 109.79523219,\n",
       "        91.43921266, 102.3772914 , 108.61171608,  91.94539532,\n",
       "       110.43824477, 102.45088041, 112.84707218, 109.24893629,\n",
       "       108.71984563, 100.54001178,  91.65444959, 113.32498546,\n",
       "        91.19146346,  91.07968009, 105.23049932,  91.26518008,\n",
       "       108.95477613,  90.88582572,  92.99033466,  90.92299881,\n",
       "        91.33882548,  91.13851895, 100.65060207,  91.37091705,\n",
       "        94.04184797,  93.45930558,  90.86895905,  91.29834537,\n",
       "       106.06877623,  90.89536574, 122.5981567 ,  96.35714359,\n",
       "       108.54317803, 107.64484644, 113.84846707,  92.511155  ,\n",
       "       100.36048542,  91.35867031,  91.06740622, 110.95578976,\n",
       "        92.57868564, 113.30934872, 109.64377613,  91.89319354,\n",
       "       100.32751344,  94.63128958, 103.13092728, 108.63589622,\n",
       "        92.4418206 ,  91.06175025, 123.87857612, 111.95105986,\n",
       "       110.06990021, 107.87787625, 108.34087905, 112.35631219,\n",
       "       111.57956139,  91.65778929, 109.20342818, 121.9474577 ,\n",
       "       116.54973701,  90.99494229, 113.69875185, 117.14973057,\n",
       "       109.68602368, 113.00825112, 100.34532202,  91.04707799,\n",
       "        93.9054412 ,  95.17485575, 104.9091463 , 109.27022171,\n",
       "       109.32419572, 116.92506177,  90.96901751, 117.92230045,\n",
       "        93.73893701,  91.47827159,  99.87493842, 110.61219706,\n",
       "        90.11066305, 116.40727198,  90.56660904,  94.75307155,\n",
       "       100.47350976,  93.2250432 ,  91.10230193,  91.50415759,\n",
       "       101.38691654,  90.18029688, 108.13062197, 109.99929826,\n",
       "        89.96169497, 104.55191994, 119.42103721,  90.7934502 ,\n",
       "       120.20024601, 109.25005195, 110.73915405, 108.8794414 ,\n",
       "        91.32672832,  90.67536556, 100.9075633 ,  94.14666161,\n",
       "       121.13379139, 112.9202206 ,  92.86101542, 101.27961557,\n",
       "       111.85581713,  91.40838599, 101.43627896,  90.93653164,\n",
       "        92.1995788 ,  93.58540609,  93.10667447, 109.91277901,\n",
       "       110.43224794, 111.5017776 ,  91.33168008,  77.29770545,\n",
       "       114.79393069, 112.51215518,  91.52856302,  94.19228757,\n",
       "        96.71392715,  91.40036852,  89.76523526,  78.70120349,\n",
       "       114.07071072,  91.01415182, 100.03819086,  93.9198396 ,\n",
       "       133.56048494, 109.66615005, 112.12470048,  92.66827154,\n",
       "        90.77474084,  96.79356266,  91.31365959,  77.53563277,\n",
       "        91.91069359, 108.96365741,  94.91858995, 100.89391516,\n",
       "       107.61100181, 100.80042695, 100.56128766,  94.99567723,\n",
       "        91.24274817, 121.88670812, 100.79428105, 113.94876934,\n",
       "        91.25247276,  94.09762408, 113.98020256,  92.65589739,\n",
       "       115.35368084,  96.52780384, 111.69706469, 100.93260271,\n",
       "       104.53506871,  91.44868093, 100.23379561, 112.37394861,\n",
       "       103.75049998, 102.58726393,  91.59720398,  93.14989619,\n",
       "        91.35329221, 109.09665674,  92.5806967 , 115.19566279,\n",
       "        90.64620379,  90.88728082,  90.26096089,  91.26495134,\n",
       "       117.22310186, 108.47312437, 110.02831554, 109.50432163,\n",
       "        90.78865835, 114.75269502, 109.50646857, 104.99808881,\n",
       "       106.44631806,  92.1537735 ,  95.34307066, 111.48883823,\n",
       "       101.26131103,  90.53224176,  91.4637961 , 111.50090227,\n",
       "       113.2222133 , 121.34389805,  91.79568925,  91.41105091,\n",
       "        91.15565672,  90.92909553, 110.39605365,  89.75550741,\n",
       "        91.17740674, 110.08184167,  92.20881422, 119.83313659,\n",
       "        99.8857316 , 100.99390305, 112.54061374,  90.941373  ,\n",
       "       106.6936901 , 113.11815836,  91.18322835,  91.24707943,\n",
       "        94.14678664, 109.17416558,  91.02781017,  91.15791163,\n",
       "        91.23939907, 108.5444181 ,  91.53878561,  96.78819153,\n",
       "       109.07453407,  91.32065839, 100.54983241, 115.44079732,\n",
       "       110.6136468 ,  91.24356181,  95.68009215,  95.50428289,\n",
       "       105.2107708 ,  81.22650449,  90.9100333 ,  80.29670023,\n",
       "       101.22467113,  90.90467977, 119.17935721,  77.04148893,\n",
       "        94.94267972,  77.74745208, 108.59985358,  91.00204441,\n",
       "       110.0112791 ,  99.75564021,  91.51427804, 111.85788663,\n",
       "       103.80001828,  98.95517129,  91.51219055,  93.968283  ,\n",
       "       109.94817485,  91.46561703, 110.30505162, 104.14940083,\n",
       "        91.39244019,  77.50615768, 105.24692203,  78.74632066,\n",
       "       111.57213891,  78.12741703, 108.72208915, 106.56974552,\n",
       "        90.90176903, 102.62012113, 108.65916419, 112.74127057,\n",
       "       112.0690122 ,  92.48730301, 114.18162478,  95.80808533,\n",
       "        80.82847173, 110.18021237, 109.40214642, 100.87207424,\n",
       "       109.66271847, 117.34476354, 111.56357121, 107.55989128,\n",
       "       100.70810821,  92.0480434 ,  91.42656918, 109.33227932,\n",
       "       100.76148466, 100.36091086,  94.2647913 ,  91.66994171,\n",
       "        95.2102754 ,  92.11259734, 120.91751626, 131.64793825,\n",
       "        90.86994769, 108.25210844,  90.23466484, 111.10486705,\n",
       "        95.4259214 , 104.60744339,  91.90862009,  91.16162829,\n",
       "        92.64893619, 125.56970348,  91.33694412, 108.93005785,\n",
       "       115.08432706, 115.55000884,  96.19707401, 100.58947663,\n",
       "        91.46896395, 109.2894327 , 114.47114124, 113.50741589,\n",
       "        99.94214387,  94.71573799,  91.52154657,  90.69230096,\n",
       "        78.27521796,  94.63169064, 127.77953522,  93.48866986,\n",
       "       109.64060204,  94.84924207,  76.91556119, 107.16241312,\n",
       "        91.12158605,  89.89831128,  91.68217105,  91.78372217,\n",
       "       100.41555871, 101.04686295,  90.66463029, 113.1033737 ,\n",
       "        91.61386387,  93.19599833, 110.72928174, 108.09662506,\n",
       "        77.03780346, 100.25493537,  91.54141997,  92.45831429,\n",
       "        90.82404463, 117.77633566,  90.61266713,  93.45532671,\n",
       "        77.31129344, 110.78008811, 109.25258326,  94.18483402,\n",
       "        90.8073326 , 110.44050697, 105.27710859,  91.99258705,\n",
       "        91.42192944, 124.97577381,  90.85480842, 110.30623121,\n",
       "       120.59532646, 110.49308154,  96.81180258,  82.84188533,\n",
       "       119.51341098,  90.29676623, 111.95369086, 112.1840377 ,\n",
       "       110.22245636, 101.17813192, 108.94056126,  94.67020714,\n",
       "       108.76815651, 111.33394676,  90.9967952 ,  95.25220733,\n",
       "       101.15560075, 100.9422807 , 100.36940554, 100.54523717,\n",
       "       100.76700423,  90.97741475,  77.25902892, 108.11959567,\n",
       "        77.15618138,  77.45373046,  91.24548689, 108.88471617,\n",
       "       110.75917987, 109.0655807 , 106.94068048, 105.23358736,\n",
       "       109.44847086, 109.02938809, 112.65688645,  90.72832071,\n",
       "       101.5678464 ,  91.31857836,  91.31905887, 114.84916313,\n",
       "        91.44586898, 114.15800986, 101.45390803, 106.59926641,\n",
       "       106.81150674, 111.13735242, 107.11764974,  93.48243829,\n",
       "        96.17233848,  94.02635371, 109.68478325,  93.03732509,\n",
       "       109.5198992 , 103.98917405,  90.77331099,  91.15938496,\n",
       "        91.50378894,  94.75979865, 114.38519173, 112.05670707,\n",
       "       108.40295615, 100.77211043,  93.59911918, 121.95117075,\n",
       "       109.13346655, 110.1979446 ,  91.26065089, 114.75698606,\n",
       "        94.37578078, 113.56102726, 123.36926425,  96.5199078 ,\n",
       "        92.0509578 , 106.45366758,  91.81239773, 110.87048797,\n",
       "        95.24917123,  94.76649341,  90.65621628, 100.47473669,\n",
       "        91.13221773,  91.73984532,  90.89342471,  81.83987209,\n",
       "        90.40549851, 106.13148372, 108.67365586,  94.50193591,\n",
       "        91.02065664,  92.19238994,  90.28765225, 101.48309484,\n",
       "        93.84084721,  95.27426185,  91.15145792, 108.9202924 ,\n",
       "       108.71127912, 113.85420985, 116.3861021 , 109.97638778,\n",
       "        77.07673302, 109.18183447, 100.63514738,  90.51068368,\n",
       "        94.07416076, 104.43010805,  91.04147291, 109.21756645,\n",
       "       105.79173591,  91.39992243,  89.92741575,  77.24569488,\n",
       "       109.23602764,  90.84446709,  90.21760228,  90.08308839,\n",
       "       100.63421111,  90.87384352, 111.04423101, 109.32043926,\n",
       "        94.7505296 , 101.03842668,  91.0413681 , 110.10996845,\n",
       "        91.04591387,  93.42693273, 111.24945034,  91.71355541,\n",
       "        77.17154169, 122.15150909, 100.98624892, 110.37738425,\n",
       "        94.39666169, 109.16837257])"
      ]
     },
     "execution_count": 125,
     "metadata": {},
     "output_type": "execute_result"
    }
   ],
   "source": [
    "y0_pred = rfgr.predict(X_test)\n",
    "y0_pred"
   ]
  },
  {
   "cell_type": "markdown",
   "metadata": {},
   "source": [
    "#### Model Evaluation"
   ]
  },
  {
   "cell_type": "code",
   "execution_count": 126,
   "metadata": {},
   "outputs": [
    {
     "name": "stdout",
     "output_type": "stream",
     "text": [
      "Model Performance\n",
      "Average Error: 2.1558 degrees.\n",
      "Accuracy: 97.90%.\n"
     ]
    }
   ],
   "source": [
    "def model_eval(model, test_features, test_labels):\n",
    "    predictions = model.predict(test_features)\n",
    "    errors = abs(predictions - test_labels)\n",
    "    mape = 100 * np.mean(errors / test_labels)\n",
    "    accuracy = 100 - mape\n",
    "    print('Model Performance')\n",
    "    print('Average Error: {:0.4f} degrees.'.format(np.mean(errors)))\n",
    "    print('Accuracy: {:0.2f}%.'.format(accuracy))\n",
    "    \n",
    "    return accuracy\n",
    "\n",
    "\n",
    "base_accuracy = model_eval(rfgr, X_test, y_test)\n"
   ]
  },
  {
   "cell_type": "markdown",
   "metadata": {},
   "source": [
    "### Modelling: Gredient Boosting Regressor"
   ]
  },
  {
   "cell_type": "code",
   "execution_count": 127,
   "metadata": {},
   "outputs": [],
   "source": [
    "from sklearn.ensemble import GradientBoostingRegressor\n",
    "\n",
    "gbr = GradientBoostingRegressor(n_estimators=100, \n",
    "                                random_state=50,\n",
    "                                max_features = \"auto\", \n",
    "                                min_samples_leaf = 50,\n",
    "                                verbose=5)"
   ]
  },
  {
   "cell_type": "code",
   "execution_count": 128,
   "metadata": {},
   "outputs": [
    {
     "name": "stdout",
     "output_type": "stream",
     "text": [
      "      Iter       Train Loss   Remaining Time \n",
      "         1         125.7730            7.30s\n",
      "         2         102.8618            7.28s\n",
      "         3          84.1402            7.18s\n",
      "         4          68.8636            7.07s\n",
      "         5          56.4558            6.95s\n",
      "         6          46.2629            6.86s\n",
      "         7          37.9725            6.82s\n",
      "         8          31.2502            6.70s\n",
      "         9          25.7123            6.61s\n",
      "        10          21.1970            6.51s\n",
      "        11          17.5158            6.41s\n",
      "        12          14.5132            6.34s\n",
      "        13          12.0716            6.27s\n",
      "        14          10.0766            6.21s\n",
      "        15           8.4547            6.12s\n",
      "        16           7.1252            6.04s\n",
      "        17           6.0269            5.96s\n",
      "        18           5.1369            5.88s\n",
      "        19           4.4070            5.81s\n",
      "        20           3.8120            5.74s\n",
      "        21           3.3248            5.68s\n",
      "        22           2.9293            5.63s\n",
      "        23           2.5959            5.54s\n",
      "        24           2.3275            5.48s\n",
      "        25           2.1089            5.41s\n",
      "        26           1.9333            5.33s\n",
      "        27           1.7858            5.26s\n",
      "        28           1.6657            5.20s\n",
      "        29           1.5695            5.11s\n",
      "        30           1.4880            5.04s\n",
      "        31           1.4232            4.96s\n",
      "        32           1.3695            4.87s\n",
      "        33           1.3262            4.79s\n",
      "        34           1.2813            4.72s\n",
      "        35           1.2514            4.63s\n",
      "        36           1.2271            4.55s\n",
      "        37           1.2071            4.47s\n",
      "        38           1.1899            4.39s\n",
      "        39           1.1678            4.32s\n",
      "        40           1.1546            4.24s\n",
      "        41           1.1435            4.16s\n",
      "        42           1.1351            4.09s\n",
      "        43           1.1260            4.00s\n",
      "        44           1.1113            3.92s\n",
      "        45           1.1034            3.84s\n",
      "        46           1.0893            3.76s\n",
      "        47           1.0770            3.68s\n",
      "        48           1.0719            3.59s\n",
      "        49           1.0577            3.50s\n",
      "        50           1.0542            3.40s\n",
      "        51           1.0518            3.32s\n",
      "        52           1.0498            3.24s\n",
      "        53           1.0466            3.15s\n",
      "        54           1.0448            3.07s\n",
      "        55           1.0433            2.99s\n",
      "        56           1.0391            2.91s\n",
      "        57           1.0376            2.83s\n",
      "        58           1.0364            2.74s\n",
      "        59           1.0354            2.67s\n",
      "        60           1.0298            2.59s\n",
      "        61           1.0288            2.51s\n",
      "        62           1.0279            2.43s\n",
      "        63           1.0248            2.35s\n",
      "        64           1.0239            2.27s\n",
      "        65           1.0216            2.20s\n",
      "        66           1.0207            2.12s\n",
      "        67           1.0198            2.05s\n",
      "        68           1.0171            1.98s\n",
      "        69           1.0162            1.90s\n",
      "        70           1.0122            1.84s\n",
      "        71           1.0113            1.76s\n",
      "        72           1.0041            1.70s\n",
      "        73           1.0034            1.63s\n",
      "        74           1.0020            1.56s\n",
      "        75           0.9994            1.50s\n",
      "        76           0.9985            1.43s\n",
      "        77           0.9979            1.36s\n",
      "        78           0.9951            1.30s\n",
      "        79           0.9943            1.23s\n",
      "        80           0.9928            1.17s\n",
      "        81           0.9920            1.11s\n",
      "        82           0.9913            1.04s\n",
      "        83           0.9887            0.98s\n",
      "        84           0.9879            0.92s\n",
      "        85           0.9860            0.86s\n",
      "        86           0.9852            0.80s\n",
      "        87           0.9845            0.74s\n",
      "        88           0.9821            0.68s\n",
      "        89           0.9813            0.62s\n",
      "        90           0.9806            0.56s\n",
      "        91           0.9782            0.50s\n",
      "        92           0.9775            0.45s\n",
      "        93           0.9769            0.39s\n",
      "        94           0.9745            0.33s\n",
      "        95           0.9738            0.28s\n",
      "        96           0.9719            0.22s\n",
      "        97           0.9712            0.16s\n",
      "        98           0.9706            0.11s\n",
      "        99           0.9687            0.05s\n",
      "       100           0.9680            0.00s\n"
     ]
    },
    {
     "data": {
      "text/plain": [
       "GradientBoostingRegressor(alpha=0.9, criterion='friedman_mse', init=None,\n",
       "             learning_rate=0.1, loss='ls', max_depth=3,\n",
       "             max_features='auto', max_leaf_nodes=None,\n",
       "             min_impurity_decrease=0.0, min_impurity_split=None,\n",
       "             min_samples_leaf=50, min_samples_split=2,\n",
       "             min_weight_fraction_leaf=0.0, n_estimators=100,\n",
       "             presort='auto', random_state=50, subsample=1.0, verbose=5,\n",
       "             warm_start=False)"
      ]
     },
     "execution_count": 128,
     "metadata": {},
     "output_type": "execute_result"
    }
   ],
   "source": [
    "gbr.fit(X_train, y_train)"
   ]
  },
  {
   "cell_type": "code",
   "execution_count": 130,
   "metadata": {},
   "outputs": [
    {
     "data": {
      "text/plain": [
       "array([ 92.25087008, 114.5701143 ,  87.86489159, 129.02808895,\n",
       "        91.29394556,  88.24829786,  90.79443905, 113.03630027,\n",
       "       122.54103834, 108.32161245,  86.89786108,  86.58518135,\n",
       "        97.66526167, 103.14691351,  99.86670573, 111.66710435,\n",
       "        89.83940301,  92.93124511, 108.93343869, 132.56442871,\n",
       "       116.69924935, 107.78041314, 110.04434061, 117.54979202,\n",
       "       104.97267246, 109.48608217,  98.24854694,  97.24555138,\n",
       "        91.17472615, 111.96196565,  94.39694582, 116.36324297,\n",
       "        90.35503191, 106.59199702, 112.20434998,  90.79711213,\n",
       "        90.60366525,  87.98804789,  79.81131993,  91.61408055,\n",
       "        95.6186533 ,  88.4478418 , 108.57982363,  90.11694166,\n",
       "       111.16333763,  94.08543732,  86.90913182,  89.52590243,\n",
       "        88.69660672, 105.32040553, 111.16304719,  89.40441881,\n",
       "        89.40174572, 101.0900561 , 110.89707322, 113.83220549,\n",
       "        93.54845699,  99.02307554,  90.02267472, 102.58719548,\n",
       "        93.68620085,  94.60092616,  90.35935017,  96.73176221,\n",
       "        85.81905868,  74.60011409,  98.92201107,  89.40174572,\n",
       "        86.90913182,  86.90913182, 111.4759424 , 105.91985396,\n",
       "        96.358445  , 103.14424043,  98.24854694,  86.90913182,\n",
       "        92.71483376,  74.60011409,  96.74048064, 115.41572931,\n",
       "       111.08234935, 123.74056407, 128.57155471,  95.57714345,\n",
       "       107.49020017,  93.67748242, 109.17467076,  93.67480933,\n",
       "       142.87307017, 107.04580511, 101.12821304, 107.49287326,\n",
       "        89.29498335,  89.39314808, 106.98037682, 105.66202613,\n",
       "        99.49952438,  98.92854917, 110.31214348,  92.74679982,\n",
       "        95.57714345, 128.48358261,  87.45212046,  90.1365692 ,\n",
       "        89.02774719,  89.29498335, 100.08073517,  94.08543732,\n",
       "       104.16692072, 106.99231974,  78.52540066,  93.67480933,\n",
       "       113.61396108,  93.67480933, 113.83160632, 128.26433896,\n",
       "        88.43657106, 119.6707578 , 113.75781814, 142.15218455,\n",
       "        88.34799189,  90.02267472,  87.43829501, 118.031382  ,\n",
       "        90.37350435,  98.58941061, 118.11318045,  92.09388798,\n",
       "        89.8823671 ,  96.73176221,  90.11426857, 106.01096503,\n",
       "        90.37350435, 107.45762799, 109.30532973, 100.77218319,\n",
       "        88.22509865, 124.50563169, 101.12175586, 115.86581502,\n",
       "       107.02282378, 105.970135  ,  86.56579135,  84.64931444,\n",
       "        98.11249416,  99.5262898 ,  89.02774719, 100.04217597,\n",
       "        88.4478418 ,  86.86397577,  99.49952438,  85.50380739,\n",
       "       105.98419961,  90.35503191,  91.72240695,  92.29383417,\n",
       "        93.42867772,  87.72364626,  89.303046  ,  88.69927981,\n",
       "        74.62436114, 109.56059252, 126.12453565,  92.09388798,\n",
       "       108.35418462, 107.76634854,  90.02534781,  90.79443905,\n",
       "        88.22777174,  92.23989389, 110.04434061,  92.25354317,\n",
       "        88.4478418 , 103.38326515, 100.51411471,  88.09081435,\n",
       "       101.77660352, 105.90578936, 117.46193924, 110.07110604,\n",
       "       104.46137172,  96.72908912,  95.32052504,  99.49952438,\n",
       "       143.48875685,  93.600161  ,  77.59912211, 109.02753511,\n",
       "        88.69660672, 109.15502095,  98.25122003,  90.37083126,\n",
       "       112.24807607,  88.69660672, 114.28157727, 110.86525019,\n",
       "        98.63755408, 101.81787514, 104.48232483, 107.76634854,\n",
       "       103.15830503, 108.92553016, 100.28146867, 108.32161245,\n",
       "       119.42845899,  97.67932627,  90.60366525,  97.25694289,\n",
       "        94.67372581,  90.64815835, 110.04434061, 116.56115346,\n",
       "        90.37083126, 108.32161245,  98.83531165, 108.6587334 ,\n",
       "       112.27089084,  88.28646298,  90.12529846, 106.86407085,\n",
       "        90.37083126,  90.79443905, 106.48496756, 123.12034859,\n",
       "       106.36034609,  89.28371261, 105.32040553, 107.02549687,\n",
       "        91.71973386, 127.60974545,  88.84950045, 117.56773145,\n",
       "       102.82103071,  90.12529846,  85.82765633,  77.02210122,\n",
       "       101.23777601,  96.76991915, 110.11812879, 109.48893905,\n",
       "        96.26207635,  86.90913182,  87.75842288,  96.07581301,\n",
       "        88.48192067,  89.49204773, 112.24807607,  99.48545977,\n",
       "       124.78384581, 106.57793242, 109.07796052, 119.68804126,\n",
       "        95.57714345,  99.96334907,  94.08543732, 108.93343869,\n",
       "        91.36407212, 106.67391351,  89.02774719, 113.7779731 ,\n",
       "       108.82921972, 115.80624901,  90.01140399, 110.00241286,\n",
       "       100.02811137, 116.02902097,  94.08811041, 108.30754785,\n",
       "        94.08543732,  92.09656106,  92.74679982, 101.25208873,\n",
       "       118.50238451,  92.25087008, 108.01036852, 108.65808853,\n",
       "        92.25087008,  90.64548527,  94.41725407,  89.48157285,\n",
       "        92.25087008,  91.29127247,  97.24287829, 100.30177691,\n",
       "       142.46561628, 116.54708886,  94.60092616, 116.62546117,\n",
       "        99.00901094, 110.04434061,  91.29127247,  91.29394556,\n",
       "        74.60011409,  77.59912211, 119.42845899,  86.90913182,\n",
       "        88.8950137 ,  88.28913607,  96.26207635,  94.08543732,\n",
       "        88.25097095, 112.30779964, 113.80797577, 105.32040553,\n",
       "        88.69660672, 114.73148422,  77.00645183, 108.71948155,\n",
       "        99.00901094,  99.85531422, 112.96251209, 108.63778029,\n",
       "        89.02774719,  74.60011409, 111.54963275, 111.24351447,\n",
       "        92.09656106,  88.69660672, 111.01747334, 112.8577795 ,\n",
       "        76.20955823,  88.75186392,  98.11516725, 104.97267246,\n",
       "        89.52322935, 110.7939541 ,  91.71973386, 111.02619002,\n",
       "        86.58250826, 142.3533696 ,  88.28646298,  92.09656106,\n",
       "        90.1365692 , 116.688457  ,  94.08543732,  96.07581301,\n",
       "        93.54845699,  96.72908912, 107.0522623 ,  96.25940326,\n",
       "        88.4478418 , 115.02333509, 124.0574383 , 116.73403703,\n",
       "       114.64418578, 108.36494602,  98.83531165, 105.08889132,\n",
       "       117.72713389, 103.96255747, 116.1430343 , 111.71629746,\n",
       "        88.67721673,  83.50815383, 144.19911118, 107.86680723,\n",
       "        91.57676831,  97.82143276, 108.35685771,  90.79443905,\n",
       "       110.1082756 , 102.5556229 , 113.87886978, 112.23668456,\n",
       "       105.26155481,  96.2937761 ,  92.09388798, 113.70490195,\n",
       "        87.43829501,  90.1365692 , 106.51904643,  89.40174572,\n",
       "       109.85467827,  90.38672527,  93.45165905,  84.6146753 ,\n",
       "        90.64548527,  88.45051489,  99.05715441,  90.60366525,\n",
       "        93.45838526,  95.6186533 ,  88.45051489,  86.58250826,\n",
       "       106.16863782,  89.40174572, 122.14498678, 101.00815249,\n",
       "       105.66202613, 108.62638878, 113.03420496,  91.61140746,\n",
       "        98.11516725,  90.37083126,  86.58250826, 110.75540636,\n",
       "        92.93124511, 110.10733644, 108.63778029,  84.64931444,\n",
       "        98.11516725,  94.08543732, 102.5556229 , 108.96077543,\n",
       "        90.11694166,  91.61140746, 126.10422741, 107.17181625,\n",
       "       109.76183576, 109.99102134, 107.02549687, 111.05351586,\n",
       "       112.96251209,  91.17472615, 106.48496756, 122.64081241,\n",
       "       119.42845899,  87.72631934, 118.0977799 , 131.58133692,\n",
       "       106.88285076, 112.98282033,  95.6327179 ,  87.72364626,\n",
       "        93.43135081,  99.01168403, 105.32040553, 108.59252714,\n",
       "       110.8317698 , 118.65639429,  86.90913182, 119.29538758,\n",
       "        94.08543732,  91.71973386,  95.63004482, 110.75807945,\n",
       "        88.09348744, 118.68399288,  88.79642861,  98.58941061,\n",
       "       100.52550623,  93.67480933,  88.09348744,  88.09081435,\n",
       "       100.76147552,  88.4478418 , 105.25888172, 109.49502142,\n",
       "        86.58250826, 104.97267246, 119.40320778,  91.17739924,\n",
       "       121.48517655, 108.59252714, 111.54973058, 107.48439342,\n",
       "        91.17739924,  88.86077119,  99.5262898 ,  94.72342705,\n",
       "       122.67504893, 112.96251209,  92.93391819, 100.36020758,\n",
       "       113.84299783,  91.2217325 , 101.91111267,  90.11426857,\n",
       "        92.7849616 ,  96.07313992,  93.55113008, 111.19152447,\n",
       "       110.04434061, 110.82565385,  89.44693371,  75.82033207,\n",
       "       116.62655247, 112.31919116,  91.61408055,  96.358445  ,\n",
       "       100.76079168,  88.0822167 ,  85.62918079,  74.60011409,\n",
       "       116.52988078,  91.17472615,  99.01304139,  95.39332469,\n",
       "       143.53226251, 107.80486606, 113.19573806,  88.98183731,\n",
       "        89.02774719, 100.26740406,  90.64548527,  74.61138483,\n",
       "        92.74947291, 106.59199702,  97.66526167,  99.49952438,\n",
       "       110.06480952, 101.25184061,  97.67932627,  98.25122003,\n",
       "        90.60366525, 129.60534479, 100.77218319, 114.81666391,\n",
       "        91.71973386,  94.39694582, 114.47835722,  92.09388798,\n",
       "       117.67742934, 100.51144163, 112.24807607,  98.11249416,\n",
       "       105.34071377,  90.79443905,  97.25694289, 112.24807607,\n",
       "       102.5415583 , 103.15830503,  92.09388798,  91.61408055,\n",
       "        89.40441881, 106.18002933,  92.93124511, 117.96307703,\n",
       "        91.17739924,  88.12539125,  91.29127247,  89.83940301,\n",
       "       118.43230892, 107.49220489, 110.0227211 , 106.34003785,\n",
       "        90.02267472, 117.55510116, 109.32563797, 106.34003785,\n",
       "       108.91413865,  91.29127247,  99.48545977, 110.98836643,\n",
       "       100.52550623,  87.43829501,  92.09388798, 112.32186425,\n",
       "       115.83026856, 142.4074392 ,  92.74679982,  89.83940301,\n",
       "        86.90913182,  90.3866031 , 110.04434061,  88.4478418 ,\n",
       "        88.41320265, 110.15262526,  92.25354317, 121.61732538,\n",
       "        96.08720453,  97.69963451, 114.44101506,  88.76313466,\n",
       "       106.47090296, 111.31519909,  90.37350435,  89.83940301,\n",
       "        97.24287829, 107.97185257,  88.09081435,  89.596029  ,\n",
       "        92.25087008, 108.53944057,  92.25354317, 101.08738302,\n",
       "       104.58985699,  89.03042028,  99.02040245, 119.47883588,\n",
       "       110.78484487,  86.58518135,  98.61884912,  99.85264113,\n",
       "       106.48496756,  84.61694814,  88.4478418 ,  82.21120335,\n",
       "        99.02307554,  92.09388798, 120.86589047,  75.93053765,\n",
       "        98.10110265,  78.52369508, 109.48626596,  89.83940301,\n",
       "       108.32161245,  94.40566425,  92.09388798, 112.12055957,\n",
       "       104.49545059, 101.75608173,  90.02267472,  94.97519964,\n",
       "       110.08151017,  88.69927981, 110.00241286, 104.48167996,\n",
       "        92.09388798,  77.03337196, 104.95860786,  81.09423629,\n",
       "       110.79128101,  77.03069887, 104.09016784, 107.81565841,\n",
       "        87.43829501,  99.89860954, 105.66202613, 113.86861521,\n",
       "       115.73474583,  88.22777174, 115.75970001,  99.00901094,\n",
       "        84.61694814, 109.30265664, 107.4549549 ,  98.95498066,\n",
       "       110.0227211 , 122.03265357, 111.64250928, 108.31893936,\n",
       "        99.49952438,  92.93124511,  92.25087008, 108.63778029,\n",
       "       100.20339437,  98.20840478,  94.60092616,  88.69660672,\n",
       "        97.28584238,  92.7849616 , 121.66926254, 143.34599018,\n",
       "        87.45479354, 104.46137172,  91.29394556, 112.03766487,\n",
       "        99.48545977, 105.35685939,  92.74679982,  89.29765644,\n",
       "        95.32052504, 129.03575271,  87.98804789, 110.75807945,\n",
       "       116.51908844, 117.40030462,  99.85531422, 101.10144762,\n",
       "        91.72240695, 108.42716303, 116.61625554, 113.0732696 ,\n",
       "        96.37250961,  99.00901094,  90.64548527,  90.1365692 ,\n",
       "        77.97923955,  97.24287829, 142.08677729,  94.72342705,\n",
       "       105.66202613,  94.08543732,  74.60011409, 104.44730712,\n",
       "        87.45479354,  87.98804789,  89.31796468,  91.64744972,\n",
       "        97.25694289, 100.28146867,  89.8420761 , 118.36152408,\n",
       "        89.83940301,  93.43135081, 110.88932803, 104.45057937,\n",
       "        76.23380527,  98.95498066,  90.60366525,  87.45479354,\n",
       "        88.4478418 , 118.04763105,  86.89786108,  93.67480933,\n",
       "        74.6130904 , 116.52122002, 108.92553016,  95.32052504,\n",
       "        90.79443905, 108.68723709, 104.44998021,  92.25087008,\n",
       "        87.45479354, 128.65792874,  89.32906222, 108.69397867,\n",
       "       132.39956419, 110.25771158, 100.08340826,  89.50383935,\n",
       "       130.05234333,  89.40174572, 110.03009222, 114.28688641,\n",
       "       108.67302556, 101.25184061, 106.77125403,  97.24555138,\n",
       "       104.97267246, 111.05948152,  88.22509865,  98.6239875 ,\n",
       "       101.10144762, 100.27879558,  97.25694289,  97.71340514,\n",
       "        97.67932627,  90.79443905,  74.60011409, 104.13081151,\n",
       "        77.59912211,  77.52630305,  90.79443905, 107.49287326,\n",
       "       111.54973058, 106.20033758, 107.49020017, 103.37454673,\n",
       "       108.32161245, 106.7564218 , 114.96691586,  88.09081435,\n",
       "       101.74983809,  89.8420761 ,  91.61408055, 124.853503  ,\n",
       "        90.02267472, 116.05397515, 100.17976817, 108.34335703,\n",
       "       107.45762799, 110.30244905, 105.3544844 ,  93.67480933,\n",
       "        99.85264113,  94.72342705, 109.16581329,  94.08543732,\n",
       "       109.22115171, 104.58671614,  85.79891082,  89.02774719,\n",
       "        90.79711213,  96.72908912, 115.00698551, 113.13364078,\n",
       "       104.48813714, 100.28146867,  93.67480933, 121.13884271,\n",
       "       106.17735625, 110.04434061,  89.56619343, 119.26034273,\n",
       "        93.21071752, 116.45609261, 126.13432662, 100.76079168,\n",
       "        92.78763469, 105.34279479,  92.09388798, 110.82919454,\n",
       "        99.32835318,  98.24854694,  86.91180491,  98.11516725,\n",
       "        89.52322935,  90.79711213,  87.72364626,  89.01962794,\n",
       "        90.04565605, 101.81520205, 107.47793623,  98.10377574,\n",
       "        88.69927981,  86.91180491,  91.29394556, 101.81787514,\n",
       "        95.32052504,  98.94091606,  87.99072098, 105.32040553,\n",
       "       109.26315381, 117.75312857, 119.23107987, 108.5648866 ,\n",
       "        74.60011409, 106.51295981,  98.83531165,  88.09081435,\n",
       "        95.32319813, 103.98032567,  89.03042028, 107.48208091,\n",
       "       105.98152652,  90.37350435,  89.03042028,  76.3856879 ,\n",
       "       107.76634854,  86.91180491,  87.45212046,  89.83940301,\n",
       "        97.25694289,  88.76313466, 107.49020017, 105.65935304,\n",
       "        97.24287829,  98.60347521,  91.29127247, 109.02615997,\n",
       "        92.25087008,  93.67748242, 111.53893823,  89.8420761 ,\n",
       "        78.59035226, 129.99977582, 101.747165  , 114.49101699,\n",
       "        97.24555138, 108.40685479])"
      ]
     },
     "execution_count": 130,
     "metadata": {},
     "output_type": "execute_result"
    }
   ],
   "source": [
    "y1_pred = gbr.predict(X_test)\n",
    "y1_pred"
   ]
  },
  {
   "cell_type": "markdown",
   "metadata": {},
   "source": [
    "#### Model Evaluation"
   ]
  },
  {
   "cell_type": "code",
   "execution_count": 131,
   "metadata": {},
   "outputs": [
    {
     "name": "stdout",
     "output_type": "stream",
     "text": [
      "Model Performance\n",
      "Average Error: 0.2036 degrees.\n",
      "Accuracy: 99.82%.\n"
     ]
    }
   ],
   "source": [
    "gbr_accuracy = model_eval(gbr, X_test, y_test)"
   ]
  },
  {
   "cell_type": "markdown",
   "metadata": {},
   "source": [
    "### Modelling: AdaBoost Regressor"
   ]
  },
  {
   "cell_type": "code",
   "execution_count": 132,
   "metadata": {},
   "outputs": [],
   "source": [
    "from sklearn.ensemble import AdaBoostRegressor\n",
    "\n",
    "adr = AdaBoostRegressor(learning_rate=0.1, \n",
    "                        loss='square', \n",
    "                        n_estimators=100)\n"
   ]
  },
  {
   "cell_type": "code",
   "execution_count": 133,
   "metadata": {},
   "outputs": [
    {
     "data": {
      "text/plain": [
       "AdaBoostRegressor(base_estimator=None, learning_rate=0.1, loss='square',\n",
       "         n_estimators=100, random_state=None)"
      ]
     },
     "execution_count": 133,
     "metadata": {},
     "output_type": "execute_result"
    }
   ],
   "source": [
    "adr.fit(X_train, y_train)"
   ]
  },
  {
   "cell_type": "code",
   "execution_count": 135,
   "metadata": {},
   "outputs": [
    {
     "data": {
      "text/plain": [
       "array([ 89.9993768 , 112.74574614,  89.84883319, 127.6027957 ,\n",
       "        89.98816667,  89.90529644,  89.98816667, 112.09574225,\n",
       "       121.61166667, 108.57169867,  89.64697653,  89.40619507,\n",
       "        98.05528139, 102.96276978, 100.27547993, 111.05287966,\n",
       "        89.98816667,  91.00733898, 109.84881075, 132.93606452,\n",
       "       115.20807963, 108.41090468, 110.16631638, 116.0257243 ,\n",
       "       105.00672326, 110.00267372,  98.51025463,  96.8642145 ,\n",
       "        89.98816667, 111.26089342,  92.69248477, 114.56669065,\n",
       "        89.98816667, 107.74936291, 111.26089342,  89.98816667,\n",
       "        89.98816667,  89.8591054 ,  77.08272   ,  89.98816667,\n",
       "        94.41697115,  89.93660819, 109.43975241,  89.98816667,\n",
       "       111.05287966,  92.42688652,  89.64697653,  89.98816667,\n",
       "        89.93660819, 106.9862446 , 111.05287966,  89.93660819,\n",
       "        89.93660819, 100.64363057, 110.9462375 , 112.26815021,\n",
       "        91.79364   ,  99.73867675,  89.98816667, 101.43519931,\n",
       "        92.07110236,  93.20845977,  89.98816667,  95.19194521,\n",
       "        89.37190011,  76.99934211,  99.73867675,  89.93660819,\n",
       "        89.64697653,  89.64697653, 111.05287966, 107.48657754,\n",
       "        94.58430079, 102.84082418,  98.51025463,  89.64697653,\n",
       "        90.37047218,  76.99934211,  94.80230769, 113.94078838,\n",
       "       111.05287966, 122.38341137, 127.6027957 ,  94.41697115,\n",
       "       108.29297735,  92.07110236, 109.852527  ,  92.07110236,\n",
       "       149.80707792, 108.05848631, 100.64363057, 108.29297735,\n",
       "        89.93660819,  89.93660819, 107.86054484, 107.48657754,\n",
       "       100.2027027 ,  99.66579196, 110.15277778,  90.37047218,\n",
       "        94.41697115, 127.51424581,  89.64697653,  89.98816667,\n",
       "        89.93660819,  89.93660819, 100.3663913 ,  92.57258369,\n",
       "       103.94732558, 107.86054484,  76.99934211,  92.07110236,\n",
       "       112.20149826,  92.07110236, 112.26815021, 127.41287179,\n",
       "        89.93660819, 121.1872028 , 112.26815021, 136.41315217,\n",
       "        89.90529644,  89.98816667,  89.64697653, 116.66386635,\n",
       "        89.98816667,  99.04491803, 117.54808411,  89.98816667,\n",
       "        89.98816667,  94.86512129,  89.98816667, 107.64786207,\n",
       "        89.98816667, 108.38564345, 109.852527  , 100.48318426,\n",
       "        89.90529644, 124.34949074, 100.64363057, 113.9420078 ,\n",
       "       108.01312821, 107.64786207,  89.37190011,  89.25436872,\n",
       "        98.4138522 , 100.2027027 ,  89.93660819, 100.3663913 ,\n",
       "        89.93660819,  89.5603144 , 100.2027027 ,  89.37190011,\n",
       "       107.64786207,  89.98816667,  89.98816667,  89.9993768 ,\n",
       "        91.03035   ,  89.84883319,  89.93660819,  89.93660819,\n",
       "        76.99934211, 110.04323899, 124.75047847,  89.98816667,\n",
       "       108.57169867, 108.57169867,  89.98816667,  89.98816667,\n",
       "        89.88313742,  89.9993768 , 110.16631638,  89.9993768 ,\n",
       "        89.93660819, 103.89500838, 100.48318426,  89.8591054 ,\n",
       "       100.87859606, 107.48657754, 116.0257243 , 110.15277778,\n",
       "       104.39542024,  94.61252604,  93.84419908, 100.2027027 ,\n",
       "       140.44220588,  92.07110236,  76.99934211, 109.84881075,\n",
       "        89.93660819, 109.852527  ,  98.4138522 ,  89.98816667,\n",
       "       111.78141985,  89.93660819, 112.52882637, 110.9462375 ,\n",
       "        98.76863192, 100.87859606, 104.39542024, 108.56340979,\n",
       "       103.2245515 , 109.63323577, 100.3663913 , 109.16546973,\n",
       "       121.14201807,  98.335     ,  89.98816667,  97.8612987 ,\n",
       "        93.20845977,  89.98816667, 110.16631638, 115.20807963,\n",
       "        89.98816667, 109.16546973,  99.66579196, 109.63323577,\n",
       "       111.59691792,  89.90529644,  89.98816667, 107.81618161,\n",
       "        89.98816667,  89.98816667, 107.74936291, 121.61166667,\n",
       "       107.70571938,  89.93660819, 106.9862446 , 108.29297735,\n",
       "        89.98816667, 125.63071038,  89.93660819, 116.40223618,\n",
       "       102.79197492,  89.98816667,  89.37190011,  76.99934211,\n",
       "       100.6682381 ,  94.80230769, 110.16631638, 109.852527  ,\n",
       "        94.43997436,  89.58705426,  89.84883319,  94.41697115,\n",
       "        89.93660819,  89.98816667, 111.73371622, 100.2027027 ,\n",
       "       123.28682403, 107.74936291, 109.852527  , 121.16482927,\n",
       "        94.41697115, 100.3663913 ,  92.42688652, 109.84881075,\n",
       "        89.98816667, 107.80211702,  89.93660819, 112.20149826,\n",
       "       109.63323577, 114.12940334,  89.98816667, 110.15277778,\n",
       "       100.3663913 , 113.9420078 ,  92.57821941, 109.0834846 ,\n",
       "        92.57258369,  89.9993768 ,  90.37047218, 100.64363057,\n",
       "       117.5958125 ,  90.00209028, 108.41090468, 109.63323577,\n",
       "        89.9993768 ,  89.98816667,  92.69248477,  89.94544199,\n",
       "        90.29003673,  89.98816667,  97.20405594, 100.3663913 ,\n",
       "       163.88758621, 114.56669065,  93.20845977, 114.63223982,\n",
       "        99.73867675, 110.16631638,  89.98816667,  89.98816667,\n",
       "        76.99934211,  76.99934211, 120.77524664,  89.64697653,\n",
       "        89.93660819,  89.90529644,  94.43997436,  92.57650131,\n",
       "        89.90529644, 111.78141985, 112.20149826, 107.08612403,\n",
       "        89.93660819, 112.81027505,  76.99934211, 109.21550489,\n",
       "        99.73953596, 100.3663913 , 112.09574225, 109.63323577,\n",
       "        89.93660819,  76.99934211, 111.05287966, 111.05287966,\n",
       "        89.98816667,  89.93660819, 110.62101362, 112.00711033,\n",
       "        76.99934211,  89.93660819,  98.4138522 , 105.00672326,\n",
       "        89.98816667, 110.9462375 ,  89.98816667, 110.9462375 ,\n",
       "        89.54871951, 147.99735   ,  89.90529644,  89.98816667,\n",
       "        89.98816667, 114.56669065,  92.57258369,  94.41697115,\n",
       "        92.07110236,  94.86512129, 108.01312821,  94.43997436,\n",
       "        89.93660819, 112.86133333, 123.96014815, 114.56669065,\n",
       "       112.7787037 , 109.16546973,  99.60166667, 105.00672326,\n",
       "       116.0257243 , 103.89500838, 113.9420078 , 111.16164557,\n",
       "        89.93660819,  82.01548638, 140.44220588, 108.57169867,\n",
       "        89.98816667,  98.4138522 , 108.57169867,  89.98816667,\n",
       "       110.12510405, 101.86141827, 112.52745063, 111.73371622,\n",
       "       106.9862446 ,  94.43997436,  89.98816667, 112.26815021,\n",
       "        89.64697653,  89.98816667, 107.74936291,  89.93660819,\n",
       "       110.00267372,  89.98816667,  91.449456  ,  89.25436872,\n",
       "        89.98816667,  89.90529644,  99.73953596,  89.98816667,\n",
       "        91.79364   ,  94.41697115,  89.93660819,  89.54871951,\n",
       "       107.64786207,  89.93660819, 121.61166667, 100.48318426,\n",
       "       107.48657754, 109.63323577, 112.09574225,  89.98816667,\n",
       "        98.4138522 ,  89.98816667,  89.54871951, 110.74286385,\n",
       "        91.00733898, 110.15277778, 109.63323577,  89.25436872,\n",
       "        98.4138522 ,  92.57650131, 102.11038005, 109.63323577,\n",
       "        89.98816667,  89.98816667, 124.75047847, 107.86054484,\n",
       "       110.00267372, 110.15277778, 107.86054484, 110.9462375 ,\n",
       "       112.09574225,  89.98816667, 107.74936291, 121.61166667,\n",
       "       118.66030303,  89.84883319, 117.54808411, 132.22552083,\n",
       "       107.80211702, 112.09574225,  94.41697115,  89.84883319,\n",
       "        91.79364   ,  99.73953596, 106.9862446 , 109.16546973,\n",
       "       110.9462375 , 117.5958125 ,  89.64697653, 121.14201807,\n",
       "        92.42688652,  89.98816667,  94.41697115, 110.62101362,\n",
       "        89.88313742, 117.54808411,  89.93660819,  99.04491803,\n",
       "       100.3663913 ,  92.07110236,  89.88313742,  89.88313742,\n",
       "       100.3663913 ,  89.93660819, 105.00672326, 110.00267372,\n",
       "        89.37190011, 105.75946691, 121.00258065,  89.98816667,\n",
       "       121.61062706, 109.16546973, 111.05287966, 108.38553991,\n",
       "        89.98816667,  89.93660819, 100.2027027 ,  93.81112617,\n",
       "       121.61166667, 112.09574225,  91.03035   , 100.3663913 ,\n",
       "       112.52745063,  89.98816667, 101.0913587 ,  89.98816667,\n",
       "        90.4261047 ,  94.41697115,  91.79364   , 110.62101362,\n",
       "       110.366298  , 110.9462375 ,  89.98816667,  76.99934211,\n",
       "       114.41706856, 111.73371622,  89.98816667,  94.58430079,\n",
       "       100.48318426,  89.8591054 ,  89.37190011,  76.99934211,\n",
       "       114.56669065,  89.98816667,  99.73867675,  93.84419908,\n",
       "       152.69843137, 108.56340979, 112.09574225,  89.93660819,\n",
       "        89.93660819, 100.3663913 ,  89.98816667,  76.99934211,\n",
       "        90.4261047 , 107.74936291,  98.335     , 100.2027027 ,\n",
       "       110.04323899, 100.6682381 ,  98.05528139,  98.51025463,\n",
       "        89.98816667, 127.51424581, 100.48318426, 112.81027505,\n",
       "        89.98816667,  92.85010283, 112.74574614,  89.98816667,\n",
       "       116.40223618, 100.3663913 , 111.73371622,  98.4138522 ,\n",
       "       106.9862446 ,  89.98816667,  97.20405594, 111.73371622,\n",
       "       101.43519931, 102.96276978,  89.98816667,  89.98816667,\n",
       "        89.93660819, 107.64786207,  91.00733898, 116.66386635,\n",
       "        89.98816667,  89.88313742,  89.98816667,  89.98816667,\n",
       "       118.14357798, 108.29297735, 110.15277778, 107.74936291,\n",
       "        89.98816667, 116.0257243 , 109.852527  , 107.70571938,\n",
       "       109.63323577,  89.98816667, 100.2027027 , 111.05287966,\n",
       "       100.3663913 ,  89.64697653,  89.98816667, 111.73371622,\n",
       "       113.9420078 , 138.83654545,  90.34115955,  89.98816667,\n",
       "        89.58705426,  89.98816667, 110.16631638,  89.93660819,\n",
       "        89.93660819, 110.15277778,  90.00209028, 121.61062706,\n",
       "        94.41697115,  98.05528139, 112.52882637,  89.93660819,\n",
       "       107.74936291, 111.05287966,  89.98816667,  89.98816667,\n",
       "        95.96984211, 108.57169867,  89.8591054 ,  89.98816667,\n",
       "        90.00209028, 109.16546973,  89.9993768 , 100.64363057,\n",
       "       104.71639731,  89.93660819,  99.73953596, 118.76318841,\n",
       "       110.74286385,  89.37190011,  98.76863192, 100.3663913 ,\n",
       "       107.74936291,  89.29483672,  89.90529644,  78.26979661,\n",
       "        99.73953596,  89.98816667, 121.61062706,  76.99934211,\n",
       "        98.4138522 ,  76.99934211, 110.00267372,  89.98816667,\n",
       "       109.16546973,  92.69248477,  89.98816667, 111.59691792,\n",
       "       104.60940299, 100.87859606,  89.98816667,  93.81148959,\n",
       "       110.15277778,  89.93660819, 110.15277778, 104.71639731,\n",
       "        89.98816667,  76.99934211, 105.75946691,  77.16674419,\n",
       "       110.9462375 ,  76.99934211, 103.94732558, 108.56340979,\n",
       "        89.64697653, 100.3663913 , 107.48657754, 112.26815021,\n",
       "       114.12940334,  89.90529644, 114.41706856,  99.73867675,\n",
       "        88.56212806, 109.852527  , 108.38564345,  99.73867675,\n",
       "       110.04323899, 121.61166667, 111.16164557, 109.16546973,\n",
       "       100.2027027 ,  90.99026827,  89.9993768 , 109.63323577,\n",
       "       100.3663913 ,  98.4138522 ,  93.20845977,  89.93660819,\n",
       "        97.20405594,  90.4261047 , 121.61062706, 138.31378505,\n",
       "        89.64697653, 104.39542024,  89.98816667, 111.59691792,\n",
       "       100.2027027 , 107.08612403,  90.34115955,  89.93660819,\n",
       "        93.81148959, 127.41287179,  89.8591054 , 110.9462375 ,\n",
       "       114.56669065, 116.18847875, 100.3663913 , 100.64363057,\n",
       "        89.98816667, 109.21550489, 114.63223982, 112.09574225,\n",
       "        94.58430079,  99.73953596,  89.98816667,  89.98816667,\n",
       "        76.99934211,  96.76597619, 137.2132377 ,  93.81148959,\n",
       "       107.48657754,  92.57650131,  76.99934211, 104.71639731,\n",
       "        89.64697653,  89.84883319,  89.93660819,  89.98816667,\n",
       "        95.19194521, 100.3663913 ,  89.98816667, 117.54808411,\n",
       "        89.98816667,  91.79364   , 110.62101362, 104.60940299,\n",
       "        76.99934211,  99.73867675,  89.98816667,  89.64697653,\n",
       "        89.93660819, 117.28784946,  89.58705426,  92.07110236,\n",
       "        76.99934211, 114.59910256, 109.84881075,  94.37471354,\n",
       "        89.98816667, 109.63323577, 104.39542024,  90.29003673,\n",
       "        89.64697653, 127.51424581,  89.93660819, 109.63323577,\n",
       "       132.93606452, 110.15277778, 100.3663913 ,  89.98816667,\n",
       "       131.47462121,  89.93660819, 110.366298  , 112.52745063,\n",
       "       109.63323577, 100.64363057, 107.80211702,  96.8642145 ,\n",
       "       105.00672326, 111.05287966,  89.88313742,  99.04491803,\n",
       "       100.64363057, 100.3663913 ,  96.8642145 ,  98.335     ,\n",
       "        98.335     ,  89.98816667,  76.99934211, 103.94732558,\n",
       "        76.99934211,  76.99934211,  89.98816667, 108.29297735,\n",
       "       111.05287966, 107.64786207, 108.38564345, 103.34254448,\n",
       "       109.16546973, 107.80211702, 112.86133333,  89.8591054 ,\n",
       "       100.6682381 ,  89.98816667,  89.98816667, 124.32244444,\n",
       "        89.98816667, 114.41706856, 100.3663913 , 109.16546973,\n",
       "       108.38564345, 110.15277778, 106.9862446 ,  92.07110236,\n",
       "       100.3663913 ,  93.81148959, 109.852527  ,  92.42688652,\n",
       "       109.84881075, 104.87303136,  89.37190011,  89.93660819,\n",
       "        89.98816667,  95.19194521, 112.86133333, 112.09574225,\n",
       "       104.39542024, 100.3663913 ,  92.07110236, 121.61062706,\n",
       "       107.64786207, 110.16631638,  89.98816667, 121.00258065,\n",
       "        90.99026827, 114.56669065, 124.92106061, 100.48318426,\n",
       "        90.4261047 , 107.08612403,  89.98816667, 110.9462375 ,\n",
       "        99.84049145,  98.4138522 ,  89.64697653,  98.4138522 ,\n",
       "        89.98816667,  89.98816667,  89.84883319,  89.93660819,\n",
       "        89.98816667, 100.87859606, 108.38553991,  98.4138522 ,\n",
       "        89.93660819,  89.64697653,  89.98816667, 101.285375  ,\n",
       "        94.37471354,  99.73867675,  89.84883319, 107.08612403,\n",
       "       109.852527  , 116.0257243 , 118.42527439, 109.21550489,\n",
       "        76.99934211, 107.74936291,  99.60166667,  89.8591054 ,\n",
       "        93.91854692, 104.13939935,  89.93660819, 108.29297735,\n",
       "       107.64786207,  89.98816667,  89.93660819,  76.99934211,\n",
       "       108.57169867,  89.64697653,  89.64697653,  89.98816667,\n",
       "        97.87385593,  89.93660819, 108.29297735, 107.08612403,\n",
       "        96.76597619,  99.04491803,  89.98816667, 109.852527  ,\n",
       "        89.9993768 ,  92.07110236, 111.05287966,  89.98816667,\n",
       "        76.99934211, 127.51424581, 100.87859606, 112.74574614,\n",
       "        95.19194521, 109.19845808])"
      ]
     },
     "execution_count": 135,
     "metadata": {},
     "output_type": "execute_result"
    }
   ],
   "source": [
    "y2_pred = adr.predict(X_test)\n",
    "y2_pred"
   ]
  },
  {
   "cell_type": "markdown",
   "metadata": {},
   "source": [
    "#### Model Evaluation"
   ]
  },
  {
   "cell_type": "code",
   "execution_count": 136,
   "metadata": {},
   "outputs": [
    {
     "name": "stdout",
     "output_type": "stream",
     "text": [
      "Model Performance\n",
      "Average Error: 1.1209 degrees.\n",
      "Accuracy: 98.84%.\n"
     ]
    }
   ],
   "source": [
    "adr_accuracy = model_eval(adr, X_test, y_test)"
   ]
  },
  {
   "cell_type": "markdown",
   "metadata": {},
   "source": [
    "### Modelling: Bagging Regressor"
   ]
  },
  {
   "cell_type": "code",
   "execution_count": 137,
   "metadata": {},
   "outputs": [],
   "source": [
    "from sklearn.ensemble import BaggingRegressor\n",
    "\n",
    "bgr = BaggingRegressor(n_jobs=-1,\n",
    "                       n_estimators=200,\n",
    "                       max_samples=100,\n",
    "                       bootstrap=True,\n",
    "                       random_state=50,\n",
    "                       oob_score=True)"
   ]
  },
  {
   "cell_type": "code",
   "execution_count": 138,
   "metadata": {},
   "outputs": [
    {
     "data": {
      "text/plain": [
       "BaggingRegressor(base_estimator=None, bootstrap=True,\n",
       "         bootstrap_features=False, max_features=1.0, max_samples=100,\n",
       "         n_estimators=200, n_jobs=-1, oob_score=True, random_state=50,\n",
       "         verbose=0, warm_start=False)"
      ]
     },
     "execution_count": 138,
     "metadata": {},
     "output_type": "execute_result"
    }
   ],
   "source": [
    "bgr.fit(X_train, y_train)"
   ]
  },
  {
   "cell_type": "code",
   "execution_count": 139,
   "metadata": {},
   "outputs": [
    {
     "data": {
      "text/plain": [
       "array([ 92.18855, 114.7903 ,  87.5858 , 129.3099 ,  91.36045,  88.18965,\n",
       "        90.7593 , 113.93565, 123.02065, 108.3803 ,  86.88075,  86.5398 ,\n",
       "        97.4731 , 103.0567 ,  99.76765, 112.01015,  89.94685,  92.89975,\n",
       "       108.9556 , 130.11415, 117.02255, 107.73215, 110.2919 , 117.94785,\n",
       "       104.87655, 109.8163 ,  98.2397 ,  97.1841 ,  91.03175, 112.3822 ,\n",
       "        94.5238 , 116.43785,  90.19295, 106.8909 , 112.3387 ,  90.80655,\n",
       "        90.4748 ,  87.72665,  77.9294 ,  91.45455,  95.6345 ,  88.3695 ,\n",
       "       108.65885,  90.0356 , 111.3617 ,  93.75215,  87.28745,  89.47735,\n",
       "        88.6346 , 105.25695, 111.6086 ,  89.46145,  89.3772 , 100.83485,\n",
       "       110.8693 , 114.27365,  93.4799 ,  99.2328 ,  89.8776 , 102.29055,\n",
       "        94.06955,  94.76625,  90.33725,  96.8962 ,  86.44995,  77.9823 ,\n",
       "        98.8949 ,  89.2054 ,  87.2042 ,  87.2079 , 111.78885, 105.83255,\n",
       "        96.36455, 103.0653 ,  98.1133 ,  87.2608 ,  92.6701 ,  77.63395,\n",
       "        96.87615, 115.5128 , 111.205  , 123.50485, 129.392  ,  95.46465,\n",
       "       107.69115,  93.84205, 109.15315,  93.971  , 133.0928 , 107.1414 ,\n",
       "       101.1106 , 107.73785,  89.0596 ,  89.1037 , 107.1902 , 105.52905,\n",
       "        99.62015,  98.6918 , 110.18965,  92.69935,  95.38695, 129.58   ,\n",
       "        87.0483 ,  90.18235,  88.7581 ,  89.07115,  99.9845 ,  94.1223 ,\n",
       "       104.1671 , 107.2014 ,  78.98335,  93.89525, 113.91785,  93.61705,\n",
       "       114.6261 , 129.16455,  88.0577 , 120.66545, 113.97645, 131.3266 ,\n",
       "        87.9685 ,  90.0377 ,  87.16405, 118.71035,  90.491  ,  98.4602 ,\n",
       "       118.4193 ,  92.0323 ,  89.815  ,  96.9323 ,  90.0216 , 106.2123 ,\n",
       "        90.4401 , 107.64315, 109.7488 , 100.5893 ,  88.0184 , 125.65945,\n",
       "       101.13365, 116.08325, 107.0023 , 105.9489 ,  81.80565,  85.92255,\n",
       "        98.075  ,  99.46495,  89.03625,  99.9854 ,  88.5427 ,  87.2664 ,\n",
       "        99.62475,  86.1513 , 105.7259 ,  90.3373 ,  91.7744 ,  92.31915,\n",
       "        93.291  ,  87.3762 ,  89.2301 ,  88.63855,  78.8508 , 109.6469 ,\n",
       "       125.94715,  91.95795, 108.0248 , 108.2765 ,  89.99295,  90.72185,\n",
       "        87.9363 ,  91.90415, 110.82465,  92.40455,  88.36975, 104.00275,\n",
       "       100.50185,  87.7628 , 101.67735, 105.46765, 117.42755, 110.264  ,\n",
       "       104.34955,  96.64865,  95.2183 ,  99.48615, 132.4241 ,  93.55355,\n",
       "        77.21325, 108.91585,  88.5265 , 109.17245,  98.1098 ,  90.4765 ,\n",
       "       113.2609 ,  88.4631 , 114.3874 , 111.0429 ,  98.41265, 101.9614 ,\n",
       "       104.46235, 108.41005, 103.92085, 109.08935, 100.2031 , 109.34105,\n",
       "       120.5464 ,  97.9234 ,  90.5108 ,  97.49355,  94.7278 ,  90.6527 ,\n",
       "       111.06365, 117.4668 ,  90.40625, 108.6333 ,  98.83525, 109.04215,\n",
       "       112.2278 ,  87.9821 ,  89.99845, 107.013  ,  90.3294 ,  90.75655,\n",
       "       106.4958 , 122.0862 , 106.6208 ,  88.89245, 105.2989 , 107.239  ,\n",
       "        91.8347 , 128.0154 ,  88.5127 , 117.95295, 102.7422 ,  90.05595,\n",
       "        86.31455,  78.24405, 101.32065,  96.9312 , 110.3091 , 109.40805,\n",
       "        96.1939 ,  86.99215,  87.6882 ,  95.7803 ,  88.421  ,  89.45   ,\n",
       "       112.97435,  99.5608 , 124.78845, 106.486  , 109.1535 , 120.12355,\n",
       "        95.3985 ,  99.8645 ,  94.1267 , 108.90415,  91.307  , 106.61225,\n",
       "        88.76275, 113.7615 , 108.7232 , 115.87805,  89.60505, 110.0454 ,\n",
       "        99.8311 , 116.115  ,  94.3535 , 108.1693 ,  94.13795,  92.14635,\n",
       "        92.682  , 100.91375, 120.03335,  92.4302 , 108.31325, 108.9301 ,\n",
       "        92.0787 ,  90.75775,  94.63895,  89.41175,  92.1991 ,  91.28295,\n",
       "        97.16395, 100.21875, 132.37685, 116.88565,  94.772  , 116.95485,\n",
       "        98.783  , 110.39875,  91.46825,  91.3483 ,  77.1146 ,  77.1202 ,\n",
       "       120.0693 ,  87.0348 ,  88.7999 ,  88.1294 ,  96.27925,  94.2209 ,\n",
       "        87.92   , 112.8374 , 113.835  , 105.2336 ,  88.55085, 114.85265,\n",
       "        77.4901 , 108.5785 ,  99.07285,  99.7517 , 113.5083 , 108.9068 ,\n",
       "        88.82345,  77.34945, 111.68805, 111.4054 ,  91.9036 ,  88.6343 ,\n",
       "       111.23285, 112.99605,  77.61675,  88.4892 ,  98.27975, 104.89805,\n",
       "        89.598  , 111.06645,  91.85025, 111.1471 ,  86.9846 , 132.8242 ,\n",
       "        88.18345,  92.0797 ,  90.05115, 116.82975,  94.1187 ,  95.86475,\n",
       "        93.5336 ,  96.96115, 107.12045,  96.3205 ,  87.99375, 115.1562 ,\n",
       "       124.22355, 116.95975, 115.26745, 108.32465,  98.31135, 104.96445,\n",
       "       118.4315 , 104.1007 , 115.7703 , 111.92105,  87.59825,  85.1386 ,\n",
       "       132.08995, 108.02925,  91.3102 ,  98.02565, 108.1472 ,  90.79705,\n",
       "       109.76015, 102.5264 , 114.3511 , 112.81175, 105.4414 ,  96.3116 ,\n",
       "        91.92365, 114.3784 ,  87.188  ,  90.2276 , 106.387  ,  89.2799 ,\n",
       "       109.75625,  90.05675,  93.27995,  85.7869 ,  90.64755,  88.3383 ,\n",
       "        99.3618 ,  90.6409 ,  93.45865,  95.7248 ,  88.3523 ,  86.85955,\n",
       "       105.83945,  89.10225, 122.25765, 100.7919 , 105.9981 , 108.6563 ,\n",
       "       113.2423 ,  91.4541 ,  98.1507 ,  90.08485,  87.04205, 110.9078 ,\n",
       "        92.9814 , 110.2381 , 109.0256 ,  85.5799 ,  97.999  ,  94.2187 ,\n",
       "       102.32835, 108.8558 ,  90.0004 ,  91.2715 , 125.78355, 107.52515,\n",
       "       109.44265, 110.1405 , 106.99805, 110.9629 , 113.0703 ,  91.1635 ,\n",
       "       106.43545, 122.07935, 119.59525,  87.44045, 118.9262 , 130.98605,\n",
       "       106.9971 , 113.6201 ,  95.78085,  87.5586 ,  93.38665,  99.17955,\n",
       "       105.23765, 108.8878 , 110.8544 , 120.41725,  86.9655 , 120.79355,\n",
       "        94.07935,  91.505  ,  95.76475, 110.9032 ,  87.8737 , 119.26055,\n",
       "        88.65865,  98.4544 , 100.4521 ,  93.9024 ,  87.9728 ,  87.95205,\n",
       "       100.4127 ,  88.3785 , 105.25595, 109.7088 ,  86.6226 , 105.0103 ,\n",
       "       120.3873 ,  91.15355, 122.0275 , 108.88805, 111.53095, 107.48245,\n",
       "        91.23305,  88.74425,  99.5467 ,  94.89925, 122.478  , 113.5114 ,\n",
       "        93.1099 ,  99.96475, 114.4881 ,  90.9851 , 102.0898 ,  90.0622 ,\n",
       "        92.6995 ,  95.8085 ,  93.5923 , 110.87755, 110.49455, 111.52015,\n",
       "        89.44075,  77.70005, 116.3446 , 113.064  ,  91.5395 ,  96.52765,\n",
       "       100.72725,  87.7052 ,  86.27865,  77.584  , 116.6657 ,  91.07015,\n",
       "        98.99525,  95.2062 , 132.7888 , 107.94005, 113.2792 ,  88.28685,\n",
       "        88.9098 , 100.1101 ,  90.74965,  78.3988 ,  92.6888 , 106.5907 ,\n",
       "        97.63755,  99.59685, 109.97955, 101.5772 ,  97.62095,  98.30655,\n",
       "        90.50725, 129.3516 , 100.8173 , 115.2099 ,  91.73   ,  94.61155,\n",
       "       114.9404 ,  91.7707 , 117.86775, 100.5399 , 113.12745,  98.1163 ,\n",
       "       105.09195,  90.56555,  97.4216 , 112.5003 , 102.3384 , 103.07035,\n",
       "        91.97875,  91.5925 ,  89.3205 , 106.3907 ,  92.9228 , 118.79065,\n",
       "        90.87145,  87.86585,  91.3722 ,  89.75815, 120.04265, 107.41275,\n",
       "       110.16345, 106.3481 ,  89.89975, 117.446  , 109.26795, 106.2019 ,\n",
       "       109.22395,  91.29605,  99.45065, 111.03395, 100.414  ,  87.2013 ,\n",
       "        91.9313 , 112.88725, 115.73775, 131.37775,  92.44695,  89.82485,\n",
       "        87.1613 ,  90.2384 , 110.5596 ,  88.23015,  88.15425, 110.06155,\n",
       "        92.3148 , 121.16225,  95.96785,  97.70475, 114.67585,  88.74975,\n",
       "       106.27485, 111.4878 ,  90.40195,  89.6397 ,  97.1383 , 108.0296 ,\n",
       "        87.95475,  89.50975,  92.32795, 108.43375,  92.37095, 101.1587 ,\n",
       "       104.8184 ,  89.05775,  99.28175, 120.1577 , 111.1034 ,  86.68005,\n",
       "        98.3296 ,  99.7849 , 106.3417 ,  80.00645,  88.17575,  78.87765,\n",
       "        99.1482 ,  91.9981 , 121.0837 ,  77.84965,  98.0708 ,  77.76135,\n",
       "       109.6567 ,  89.7942 , 108.2116 ,  94.5626 ,  91.7962 , 112.8532 ,\n",
       "       105.0657 , 101.88225,  89.8741 ,  95.04605, 110.0967 ,  88.6017 ,\n",
       "       110.0165 , 105.0648 ,  92.0709 ,  78.3921 , 105.2578 ,  78.6574 ,\n",
       "       111.2252 ,  79.1291 , 104.31985, 107.90765,  87.3818 ,  99.76565,\n",
       "       105.8699 , 114.23055, 115.96565,  87.99285, 116.28255,  98.8741 ,\n",
       "        79.856  , 109.5717 , 107.6378 ,  98.99735, 109.66015, 122.56145,\n",
       "       111.86245, 108.53895,  99.5176 ,  92.89645,  92.25025, 108.7508 ,\n",
       "       100.1067 ,  98.0301 ,  94.65365,  88.54925,  97.178  ,  92.6879 ,\n",
       "       121.98285, 132.78825,  87.3063 , 104.8917 ,  91.3059 , 112.4591 ,\n",
       "        99.46445, 105.19595,  92.5251 ,  89.1548 ,  95.1184 , 129.67875,\n",
       "        87.86695, 110.7301 , 116.5649 , 118.01545,  99.77655, 100.9092 ,\n",
       "        91.8601 , 108.53175, 116.8776 , 113.18   ,  96.64565,  99.13455,\n",
       "        90.4295 ,  90.2327 ,  77.6277 ,  97.12775, 131.37825,  94.96695,\n",
       "       105.7228 ,  94.30895,  77.5802 , 104.70725,  87.23625,  87.75325,\n",
       "        88.8931 ,  91.58065,  97.2827 , 100.3095 ,  89.7226 , 119.94835,\n",
       "        89.6087 ,  93.44285, 110.8652 , 104.716  ,  78.43005,  98.9499 ,\n",
       "        90.59825,  87.38555,  87.91695, 118.6705 ,  86.82595,  93.95055,\n",
       "        78.91075, 116.7403 , 108.90605,  95.33385,  90.84985, 108.88415,\n",
       "       104.43275,  92.56055,  87.25345, 129.25795,  89.07715, 108.69975,\n",
       "       131.22255, 109.8666 ,  99.9183 ,  85.65575, 130.64545,  89.27365,\n",
       "       110.64935, 114.7162 , 109.19775, 101.28605, 106.8771 ,  97.27885,\n",
       "       105.24205, 111.2247 ,  88.06075,  98.54325, 100.87505, 100.0921 ,\n",
       "        97.35265,  97.6596 ,  97.73205,  90.5303 ,  78.0108 , 104.2928 ,\n",
       "        77.744  ,  78.6213 ,  90.58915, 107.5629 , 111.57335, 106.10155,\n",
       "       107.66875, 104.1342 , 108.72835, 106.81315, 115.60395,  87.87435,\n",
       "       101.35745,  89.7557 ,  91.61145, 125.08275,  89.95085, 116.23735,\n",
       "       100.071  , 108.3904 , 107.58865, 110.3202 , 105.2333 ,  93.9259 ,\n",
       "        99.74915,  95.0067 , 109.27495,  94.08755, 109.4105 , 105.0049 ,\n",
       "        86.1968 ,  88.8956 ,  90.92825,  96.94415, 115.0234 , 113.3426 ,\n",
       "       104.87995, 100.1403 ,  93.76625, 121.3944 , 106.4805 , 110.42975,\n",
       "        89.6057 , 120.0679 ,  93.01675, 116.2546 , 126.56425, 100.74185,\n",
       "        92.71585, 105.32515,  91.8584 , 110.76395,  99.23005,  98.25445,\n",
       "        87.136  ,  98.198  ,  89.56135,  90.82495,  87.472  ,  84.04975,\n",
       "        90.0261 , 101.86485, 107.71735,  98.1011 ,  88.3891 ,  87.202  ,\n",
       "        91.3225 , 102.06995,  95.41325,  98.8621 ,  87.70625, 105.34215,\n",
       "       109.1655 , 117.5215 , 119.4558 , 108.79085,  78.00025, 106.3236 ,\n",
       "        98.7546 ,  87.94725,  95.39965, 104.3507 ,  88.94785, 107.3561 ,\n",
       "       105.6401 ,  90.49685,  88.8299 ,  77.5623 , 108.29045,  87.2358 ,\n",
       "        87.30155,  89.6767 ,  97.5595 ,  88.6543 , 107.4953 , 105.3111 ,\n",
       "        97.1415 ,  98.59155,  91.41125, 109.51585,  92.39545,  93.6502 ,\n",
       "       111.44065,  89.7745 ,  78.5473 , 128.97975, 101.63885, 114.7774 ,\n",
       "        97.0879 , 108.50105])"
      ]
     },
     "execution_count": 139,
     "metadata": {},
     "output_type": "execute_result"
    }
   ],
   "source": [
    "y3_pred = bgr.predict(X_test)\n",
    "y3_pred"
   ]
  },
  {
   "cell_type": "markdown",
   "metadata": {},
   "source": [
    "#### Model Evaluation"
   ]
  },
  {
   "cell_type": "code",
   "execution_count": 140,
   "metadata": {
    "scrolled": true
   },
   "outputs": [
    {
     "name": "stdout",
     "output_type": "stream",
     "text": [
      "Model Performance\n",
      "Average Error: 0.4617 degrees.\n",
      "Accuracy: 99.57%.\n"
     ]
    }
   ],
   "source": [
    "bgr_accuracy = model_eval(bgr, X_test, y_test)"
   ]
  },
  {
   "cell_type": "code",
   "execution_count": null,
   "metadata": {},
   "outputs": [],
   "source": []
  }
 ],
 "metadata": {
  "kernelspec": {
   "display_name": "Python 3",
   "language": "python",
   "name": "python3"
  },
  "language_info": {
   "codemirror_mode": {
    "name": "ipython",
    "version": 3
   },
   "file_extension": ".py",
   "mimetype": "text/x-python",
   "name": "python",
   "nbconvert_exporter": "python",
   "pygments_lexer": "ipython3",
   "version": "3.6.2"
  }
 },
 "nbformat": 4,
 "nbformat_minor": 2
}
